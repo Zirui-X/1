{
 "cells": [
  {
   "cell_type": "markdown",
   "id": "c274be68-dd81-40fa-a87a-6f3d34cb1765",
   "metadata": {},
   "source": [
    "# Machine Learning basics"
   ]
  },
  {
   "cell_type": "code",
   "execution_count": 1,
   "id": "807aedb3-b84a-437b-8d9f-27e9b6773c7e",
   "metadata": {},
   "outputs": [],
   "source": [
    "import numpy as np\n",
    "import matplotlib.pyplot as plt\n",
    "import pandas as pd\n",
    "\n",
    "pd.set_option('display.max_columns', None)"
   ]
  },
  {
   "cell_type": "markdown",
   "id": "3fcb3e75-ec76-43eb-a0f0-7f96d120e4c5",
   "metadata": {
    "tags": []
   },
   "source": [
    "## Linear Regression\n",
    "Consider a dataset with $n$ observations (rows) and $k$ features (columns), and we want to run a linear regression model as below:"
   ]
  },
  {
   "cell_type": "markdown",
   "id": "cae38543-dcb1-4282-b217-a7e553835951",
   "metadata": {},
   "source": [
    "$$\n",
    "Y = \\alpha + \\beta X +\\epsilon \n",
    "$$\n",
    "\\\n",
    "$$\n",
    "\\begin{pmatrix}\n",
    "y_1 \\\\\n",
    "y_2 \\\\\n",
    "\\vdots \\\\\n",
    "y_n\n",
    "\\end{pmatrix} =\n",
    "\\begin{pmatrix}\n",
    "\\alpha \\\\\n",
    "\\alpha \\\\\n",
    "\\vdots \\\\\n",
    "\\alpha\n",
    "\\end{pmatrix} + \n",
    "\\begin{pmatrix}\n",
    "\\beta_1 \\\\\n",
    "\\beta_2 \\\\\n",
    "\\vdots \\\\\n",
    "\\beta_k\n",
    "\\end{pmatrix} \n",
    "\\begin{pmatrix}\n",
    "x_{11} & x_{12} & \\cdots & x_{1k} \\\\\n",
    "x_{21} & x_{22} & \\cdots & x_{2k} \\\\\n",
    "\\vdots &\\vdots & & \\vdots \\\\\n",
    "x_{n1} & x_{n2} & \\cdots & x_{nk} \\\\\n",
    "\\end{pmatrix} +\n",
    "\\begin{pmatrix}\n",
    "\\epsilon_1 \\\\\n",
    "\\epsilon_2 \\\\\n",
    "\\vdots \\\\\n",
    "\\epsilon_n\n",
    "\\end{pmatrix} \n",
    "$$"
   ]
  },
  {
   "cell_type": "markdown",
   "id": "81a63ef6-fc52-4fa6-b4a3-cc7aa03bca8c",
   "metadata": {},
   "source": [
    "which is equivalent to:\n",
    "$$\n",
    "\\begin{pmatrix}\n",
    "y_1 \\\\\n",
    "y_2 \\\\\n",
    "\\vdots \\\\\n",
    "y_n\n",
    "\\end{pmatrix} =\n",
    "\\begin{pmatrix}\n",
    "\\alpha \\\\\n",
    "\\beta_1 \\\\\n",
    "\\beta_2 \\\\\n",
    "\\vdots \\\\\n",
    "\\beta_k\n",
    "\\end{pmatrix} \n",
    "\\begin{pmatrix}\n",
    "1 & x_{11} & x_{12} & \\cdots & x_{1k} \\\\\n",
    "1 & x_{21} & x_{22} & \\cdots & x_{2k} \\\\\n",
    "\\vdots & \\vdots & \\vdots & & \\vdots \\\\\n",
    "1 & x_{n1} & x_{n2} & \\cdots & x_{nk} \\\\\n",
    "\\end{pmatrix} +\n",
    "\\begin{pmatrix}\n",
    "\\epsilon_1 \\\\\n",
    "\\epsilon_2 \\\\\n",
    "\\vdots \\\\\n",
    "\\epsilon_n\n",
    "\\end{pmatrix} \n",
    "$$\n",
    "$$\n",
    "Y = \\beta X +\\epsilon \n",
    "$$"
   ]
  },
  {
   "cell_type": "markdown",
   "id": "7b2b3259-36f7-47e8-84bd-ba767002e8d3",
   "metadata": {},
   "source": [
    "$$\n",
    "\\beta = (X^TX)^{-1}X^TY\n",
    "$$"
   ]
  },
  {
   "cell_type": "code",
   "execution_count": 131,
   "id": "a9108b1d-e314-4cf0-8fe0-e8587440c876",
   "metadata": {},
   "outputs": [
    {
     "name": "stdout",
     "output_type": "stream",
     "text": [
      "Loading library list...\n",
      "Done\n"
     ]
    }
   ],
   "source": [
    "import wrds\n",
    "WRDS_LOGIN = 'guy006' \n",
    "db = wrds.Connection(wrds_username=WRDS_LOGIN)"
   ]
  },
  {
   "cell_type": "code",
   "execution_count": 132,
   "id": "7093683f-bbdf-423e-8f4e-7c0a34170286",
   "metadata": {},
   "outputs": [],
   "source": [
    "googleC_permno = 14542\n",
    "query = f\"SELECT * FROM crsp.wrds_dsfv2_query WHERE permno = {googleC_permno}\"\n",
    "google = db.raw_sql(query, date_cols='dlycaldt')\n",
    "google = google.set_index(['ticker','dlycaldt']).sort_values(['ticker','dlycaldt'])"
   ]
  },
  {
   "cell_type": "code",
   "execution_count": 134,
   "id": "351cb682-1f14-41b2-b4dd-919c40b59636",
   "metadata": {},
   "outputs": [
    {
     "data": {
      "text/html": [
       "<div>\n",
       "<style scoped>\n",
       "    .dataframe tbody tr th:only-of-type {\n",
       "        vertical-align: middle;\n",
       "    }\n",
       "\n",
       "    .dataframe tbody tr th {\n",
       "        vertical-align: top;\n",
       "    }\n",
       "\n",
       "    .dataframe thead th {\n",
       "        text-align: right;\n",
       "    }\n",
       "</style>\n",
       "<table border=\"1\" class=\"dataframe\">\n",
       "  <thead>\n",
       "    <tr style=\"text-align: right;\">\n",
       "      <th></th>\n",
       "      <th></th>\n",
       "      <th>dlyret</th>\n",
       "      <th>chgrtn_vol</th>\n",
       "      <th>sprtrn</th>\n",
       "    </tr>\n",
       "    <tr>\n",
       "      <th>ticker</th>\n",
       "      <th>dlycaldt</th>\n",
       "      <th></th>\n",
       "      <th></th>\n",
       "      <th></th>\n",
       "    </tr>\n",
       "  </thead>\n",
       "  <tbody>\n",
       "    <tr>\n",
       "      <th rowspan=\"11\" valign=\"top\">GOOG</th>\n",
       "      <th>2014-04-03</th>\n",
       "      <td>NaN</td>\n",
       "      <td>NaN</td>\n",
       "      <td>-0.001126</td>\n",
       "    </tr>\n",
       "    <tr>\n",
       "      <th>2014-04-04</th>\n",
       "      <td>-0.046688</td>\n",
       "      <td>0.253473</td>\n",
       "      <td>-0.012537</td>\n",
       "    </tr>\n",
       "    <tr>\n",
       "      <th>2014-04-07</th>\n",
       "      <td>-0.009187</td>\n",
       "      <td>-0.311744</td>\n",
       "      <td>-0.010750</td>\n",
       "    </tr>\n",
       "    <tr>\n",
       "      <th>2014-04-08</th>\n",
       "      <td>0.031125</td>\n",
       "      <td>-0.281855</td>\n",
       "      <td>0.003751</td>\n",
       "    </tr>\n",
       "    <tr>\n",
       "      <th>2014-04-09</th>\n",
       "      <td>0.016652</td>\n",
       "      <td>0.054664</td>\n",
       "      <td>0.010918</td>\n",
       "    </tr>\n",
       "    <tr>\n",
       "      <th>...</th>\n",
       "      <td>...</td>\n",
       "      <td>...</td>\n",
       "      <td>...</td>\n",
       "    </tr>\n",
       "    <tr>\n",
       "      <th>2023-12-22</th>\n",
       "      <td>0.006488</td>\n",
       "      <td>0.021288</td>\n",
       "      <td>0.001660</td>\n",
       "    </tr>\n",
       "    <tr>\n",
       "      <th>2023-12-26</th>\n",
       "      <td>0.000701</td>\n",
       "      <td>-0.397400</td>\n",
       "      <td>0.004232</td>\n",
       "    </tr>\n",
       "    <tr>\n",
       "      <th>2023-12-27</th>\n",
       "      <td>-0.009663</td>\n",
       "      <td>0.550415</td>\n",
       "      <td>0.001430</td>\n",
       "    </tr>\n",
       "    <tr>\n",
       "      <th>2023-12-28</th>\n",
       "      <td>-0.001131</td>\n",
       "      <td>-0.293601</td>\n",
       "      <td>0.000370</td>\n",
       "    </tr>\n",
       "    <tr>\n",
       "      <th>2023-12-29</th>\n",
       "      <td>-0.002477</td>\n",
       "      <td>0.224874</td>\n",
       "      <td>-0.002826</td>\n",
       "    </tr>\n",
       "  </tbody>\n",
       "</table>\n",
       "<p>2453 rows × 3 columns</p>\n",
       "</div>"
      ],
      "text/plain": [
       "                     dlyret  chgrtn_vol    sprtrn\n",
       "ticker dlycaldt                                  \n",
       "GOOG   2014-04-03       NaN         NaN -0.001126\n",
       "       2014-04-04 -0.046688    0.253473 -0.012537\n",
       "       2014-04-07 -0.009187   -0.311744 -0.010750\n",
       "       2014-04-08  0.031125   -0.281855  0.003751\n",
       "       2014-04-09  0.016652    0.054664  0.010918\n",
       "...                     ...         ...       ...\n",
       "       2023-12-22  0.006488    0.021288  0.001660\n",
       "       2023-12-26  0.000701   -0.397400  0.004232\n",
       "       2023-12-27 -0.009663    0.550415  0.001430\n",
       "       2023-12-28 -0.001131   -0.293601  0.000370\n",
       "       2023-12-29 -0.002477    0.224874 -0.002826\n",
       "\n",
       "[2453 rows x 3 columns]"
      ]
     },
     "execution_count": 134,
     "metadata": {},
     "output_type": "execute_result"
    }
   ],
   "source": [
    "# get change of volume\n",
    "pd.set_option('display.max_columns', None)\n",
    "google['chgrtn_vol'] = google['dlyvol'].diff(1) / google['dlyvol'].shift(1)\n",
    "df_google = google[['dlyret', 'chgrtn_vol', 'sprtrn']].copy()\n",
    "df_google"
   ]
  },
  {
   "cell_type": "code",
   "execution_count": 135,
   "id": "ab36d6e7-97af-4630-a09b-3dcb250986ff",
   "metadata": {},
   "outputs": [
    {
     "data": {
      "text/html": [
       "<div>\n",
       "<style scoped>\n",
       "    .dataframe tbody tr th:only-of-type {\n",
       "        vertical-align: middle;\n",
       "    }\n",
       "\n",
       "    .dataframe tbody tr th {\n",
       "        vertical-align: top;\n",
       "    }\n",
       "\n",
       "    .dataframe thead th {\n",
       "        text-align: right;\n",
       "    }\n",
       "</style>\n",
       "<table border=\"1\" class=\"dataframe\">\n",
       "  <thead>\n",
       "    <tr style=\"text-align: right;\">\n",
       "      <th></th>\n",
       "      <th></th>\n",
       "      <th>dlyret</th>\n",
       "      <th>chgrtn_vol</th>\n",
       "      <th>sprtrn</th>\n",
       "    </tr>\n",
       "    <tr>\n",
       "      <th>ticker</th>\n",
       "      <th>dlycaldt</th>\n",
       "      <th></th>\n",
       "      <th></th>\n",
       "      <th></th>\n",
       "    </tr>\n",
       "  </thead>\n",
       "  <tbody>\n",
       "    <tr>\n",
       "      <th rowspan=\"11\" valign=\"top\">GOOG</th>\n",
       "      <th>2014-04-04</th>\n",
       "      <td>-0.046688</td>\n",
       "      <td>0.253473</td>\n",
       "      <td>-0.012537</td>\n",
       "    </tr>\n",
       "    <tr>\n",
       "      <th>2014-04-07</th>\n",
       "      <td>-0.009187</td>\n",
       "      <td>-0.311744</td>\n",
       "      <td>-0.010750</td>\n",
       "    </tr>\n",
       "    <tr>\n",
       "      <th>2014-04-08</th>\n",
       "      <td>0.031125</td>\n",
       "      <td>-0.281855</td>\n",
       "      <td>0.003751</td>\n",
       "    </tr>\n",
       "    <tr>\n",
       "      <th>2014-04-09</th>\n",
       "      <td>0.016652</td>\n",
       "      <td>0.054664</td>\n",
       "      <td>0.010918</td>\n",
       "    </tr>\n",
       "    <tr>\n",
       "      <th>2014-04-10</th>\n",
       "      <td>-0.041107</td>\n",
       "      <td>0.213551</td>\n",
       "      <td>-0.020885</td>\n",
       "    </tr>\n",
       "    <tr>\n",
       "      <th>...</th>\n",
       "      <td>...</td>\n",
       "      <td>...</td>\n",
       "      <td>...</td>\n",
       "    </tr>\n",
       "    <tr>\n",
       "      <th>2023-12-22</th>\n",
       "      <td>0.006488</td>\n",
       "      <td>0.021288</td>\n",
       "      <td>0.001660</td>\n",
       "    </tr>\n",
       "    <tr>\n",
       "      <th>2023-12-26</th>\n",
       "      <td>0.000701</td>\n",
       "      <td>-0.397400</td>\n",
       "      <td>0.004232</td>\n",
       "    </tr>\n",
       "    <tr>\n",
       "      <th>2023-12-27</th>\n",
       "      <td>-0.009663</td>\n",
       "      <td>0.550415</td>\n",
       "      <td>0.001430</td>\n",
       "    </tr>\n",
       "    <tr>\n",
       "      <th>2023-12-28</th>\n",
       "      <td>-0.001131</td>\n",
       "      <td>-0.293601</td>\n",
       "      <td>0.000370</td>\n",
       "    </tr>\n",
       "    <tr>\n",
       "      <th>2023-12-29</th>\n",
       "      <td>-0.002477</td>\n",
       "      <td>0.224874</td>\n",
       "      <td>-0.002826</td>\n",
       "    </tr>\n",
       "  </tbody>\n",
       "</table>\n",
       "<p>2452 rows × 3 columns</p>\n",
       "</div>"
      ],
      "text/plain": [
       "                     dlyret  chgrtn_vol    sprtrn\n",
       "ticker dlycaldt                                  \n",
       "GOOG   2014-04-04 -0.046688    0.253473 -0.012537\n",
       "       2014-04-07 -0.009187   -0.311744 -0.010750\n",
       "       2014-04-08  0.031125   -0.281855  0.003751\n",
       "       2014-04-09  0.016652    0.054664  0.010918\n",
       "       2014-04-10 -0.041107    0.213551 -0.020885\n",
       "...                     ...         ...       ...\n",
       "       2023-12-22  0.006488    0.021288  0.001660\n",
       "       2023-12-26  0.000701   -0.397400  0.004232\n",
       "       2023-12-27 -0.009663    0.550415  0.001430\n",
       "       2023-12-28 -0.001131   -0.293601  0.000370\n",
       "       2023-12-29 -0.002477    0.224874 -0.002826\n",
       "\n",
       "[2452 rows x 3 columns]"
      ]
     },
     "execution_count": 135,
     "metadata": {},
     "output_type": "execute_result"
    }
   ],
   "source": [
    "# drop missing values\n",
    "df_google = df_google.dropna()\n",
    "df_google"
   ]
  },
  {
   "cell_type": "markdown",
   "id": "d24ed046-6d2d-4908-a7ba-4ab632add311",
   "metadata": {},
   "source": [
    "### Matrix Operation:"
   ]
  },
  {
   "cell_type": "code",
   "execution_count": 136,
   "id": "8875c284-8f75-4e91-b751-ea69847ebcc3",
   "metadata": {},
   "outputs": [],
   "source": [
    "Y = df_google['dlyret'].values\n",
    "X = df_google[['chgrtn_vol', 'sprtrn']].values"
   ]
  },
  {
   "cell_type": "code",
   "execution_count": 137,
   "id": "2608b7e2-89ec-4c79-bf9d-c3170f498b79",
   "metadata": {},
   "outputs": [
    {
     "name": "stdout",
     "output_type": "stream",
     "text": [
      "(2452, 2)\n"
     ]
    },
    {
     "data": {
      "text/plain": [
       "array([[ 2.53472819e-01, -1.25370000e-02],\n",
       "       [-3.11743821e-01, -1.07500000e-02],\n",
       "       [-2.81854964e-01,  3.75100000e-03],\n",
       "       ...,\n",
       "       [ 5.50414714e-01,  1.43000000e-03],\n",
       "       [-2.93601067e-01,  3.70000000e-04],\n",
       "       [ 2.24873897e-01, -2.82600000e-03]])"
      ]
     },
     "execution_count": 137,
     "metadata": {},
     "output_type": "execute_result"
    }
   ],
   "source": [
    "print(X.shape)\n",
    "X"
   ]
  },
  {
   "cell_type": "code",
   "execution_count": 138,
   "id": "d0d584af-d70f-47b1-a9d7-dd46eba2814b",
   "metadata": {},
   "outputs": [
    {
     "data": {
      "text/plain": [
       "array([[ 1.00000000e+00,  2.53472819e-01, -1.25370000e-02],\n",
       "       [ 1.00000000e+00, -3.11743821e-01, -1.07500000e-02],\n",
       "       [ 1.00000000e+00, -2.81854964e-01,  3.75100000e-03],\n",
       "       ...,\n",
       "       [ 1.00000000e+00,  5.50414714e-01,  1.43000000e-03],\n",
       "       [ 1.00000000e+00, -2.93601067e-01,  3.70000000e-04],\n",
       "       [ 1.00000000e+00,  2.24873897e-01, -2.82600000e-03]])"
      ]
     },
     "execution_count": 138,
     "metadata": {},
     "output_type": "execute_result"
    }
   ],
   "source": [
    "# add constant:\n",
    "cons = np.ones(X.shape[0]).reshape(X.shape[0],1)\n",
    "Xc  = np.hstack( (cons, X) )\n",
    "Xc"
   ]
  },
  {
   "cell_type": "markdown",
   "id": "0a14bc7e-3af4-4e99-8395-e4715ab09b2a",
   "metadata": {},
   "source": [
    "$$\n",
    "\\beta = (X^TX)^{-1}X^TY\n",
    "$$"
   ]
  },
  {
   "cell_type": "code",
   "execution_count": 139,
   "id": "cb4e9c7e-14e3-4e99-9f8a-fc8b50dec026",
   "metadata": {},
   "outputs": [
    {
     "data": {
      "text/plain": [
       "array([ 3.12378871e-04, -1.28071611e-04,  1.14509662e+00])"
      ]
     },
     "execution_count": 139,
     "metadata": {},
     "output_type": "execute_result"
    }
   ],
   "source": [
    "beta = np.linalg.inv(Xc.T @ Xc) @ Xc.T @ Y\n",
    "beta"
   ]
  },
  {
   "cell_type": "code",
   "execution_count": 140,
   "id": "3ca16742-eccf-4906-9c0c-5e0f8163fd4d",
   "metadata": {},
   "outputs": [
    {
     "data": {
      "image/png": "[encoded data removed]",
      "text/plain": [
       "<Figure size 864x576 with 1 Axes>"
      ]
     },
     "metadata": {
      "needs_background": "light"
     },
     "output_type": "display_data"
    }
   ],
   "source": [
    "# Prediction:\n",
    "\n",
    "Y_hat = beta @ Xc.T\n",
    "\n",
    "fig, ax1 = plt.subplots(figsize=(12,8))\n",
    "ax1.scatter(Y, Xc[:,2], marker='o')\n",
    "ax1.plot(Y_hat, Xc[:,2], color = 'r')\n",
    "ax1.set_ylabel('Return on Google')\n",
    "ax1.set_xlabel('Return on S&P500')\n",
    "plt.title('Fitted Value')\n",
    "plt.grid(True)"
   ]
  },
  {
   "cell_type": "code",
   "execution_count": 141,
   "id": "dc9a7a12-6d85-4f6d-b84b-036dce560b95",
   "metadata": {},
   "outputs": [
    {
     "data": {
      "image/png": "[encoded data removed]",
      "text/plain": [
       "<Figure size 864x576 with 1 Axes>"
      ]
     },
     "metadata": {
      "needs_background": "light"
     },
     "output_type": "display_data"
    }
   ],
   "source": [
    "# Prediction:\n",
    "fig, ax1 = plt.subplots(figsize=(12,8))\n",
    "ax1.scatter(Y, Xc[:,1], marker='o')\n",
    "ax1.plot(Y_hat, Xc[:,2], color = 'r')\n",
    "ax1.set_ylabel('Return')\n",
    "ax1.set_xlabel('Change Rate of Volume')\n",
    "plt.title('Fitted Value')\n",
    "plt.grid(True)"
   ]
  },
  {
   "cell_type": "code",
   "execution_count": 143,
   "id": "6934c0a4-94c5-4fff-90ac-9d1ee59a9142",
   "metadata": {},
   "outputs": [
    {
     "data": {
      "text/plain": [
       "array([[ 6.09903581e-08, -1.42803205e-08, -2.74267716e-07],\n",
       "       [-1.42803205e-08,  2.10644824e-07,  9.63552525e-07],\n",
       "       [-2.74267716e-07,  9.63552525e-07,  4.77695115e-04]])"
      ]
     },
     "execution_count": 143,
     "metadata": {},
     "output_type": "execute_result"
    }
   ],
   "source": [
    "# Covariance\n",
    "residual = (Y - Y_hat)\n",
    "residual_sum_of_square = (residual ** 2).sum()\n",
    "sigma_square_hat = residual_sum_of_square / (Xc.shape[0] - Xc.shape[1])\n",
    "var_beta = (np.linalg.inv(Xc.T @ Xc) * sigma_square_hat) \n",
    "var_beta"
   ]
  },
  {
   "cell_type": "code",
   "execution_count": 144,
   "id": "0b478bfb-898d-46ac-b70e-ee090da7374e",
   "metadata": {},
   "outputs": [
    {
     "data": {
      "text/plain": [
       "[0.00024696226047415276, 0.00045896059108894457, 0.02185623744281364]"
      ]
     },
     "execution_count": 144,
     "metadata": {},
     "output_type": "execute_result"
    }
   ],
   "source": [
    "# Standard Deviation\n",
    "std = [var_beta[i, i] ** 0.5 for i in range(len(var_beta))]\n",
    "std"
   ]
  },
  {
   "cell_type": "markdown",
   "id": "69447fb1-7c92-47aa-b28d-b0d64f014ab4",
   "metadata": {},
   "source": [
    "### Statsmodels\n",
    "The same model with Statsmodels module"
   ]
  },
  {
   "cell_type": "code",
   "execution_count": 145,
   "id": "de1088ef-c096-4e04-a445-45c6d2ea184e",
   "metadata": {},
   "outputs": [],
   "source": [
    "import statsmodels.api as sm"
   ]
  },
  {
   "cell_type": "code",
   "execution_count": 146,
   "id": "ec6c326c-dc41-40dc-9e55-250a489cf026",
   "metadata": {},
   "outputs": [
    {
     "data": {
      "text/plain": [
       "array([[ 2.53472819e-01, -1.25370000e-02],\n",
       "       [-3.11743821e-01, -1.07500000e-02],\n",
       "       [-2.81854964e-01,  3.75100000e-03],\n",
       "       ...,\n",
       "       [ 5.50414714e-01,  1.43000000e-03],\n",
       "       [-2.93601067e-01,  3.70000000e-04],\n",
       "       [ 2.24873897e-01, -2.82600000e-03]])"
      ]
     },
     "execution_count": 146,
     "metadata": {},
     "output_type": "execute_result"
    }
   ],
   "source": [
    "X"
   ]
  },
  {
   "cell_type": "code",
   "execution_count": 147,
   "id": "792c9d72-77a9-476e-a3f1-5cec74df448d",
   "metadata": {},
   "outputs": [
    {
     "data": {
      "text/plain": [
       "array([[ 1.00000000e+00,  2.53472819e-01, -1.25370000e-02],\n",
       "       [ 1.00000000e+00, -3.11743821e-01, -1.07500000e-02],\n",
       "       [ 1.00000000e+00, -2.81854964e-01,  3.75100000e-03],\n",
       "       ...,\n",
       "       [ 1.00000000e+00,  5.50414714e-01,  1.43000000e-03],\n",
       "       [ 1.00000000e+00, -2.93601067e-01,  3.70000000e-04],\n",
       "       [ 1.00000000e+00,  2.24873897e-01, -2.82600000e-03]])"
      ]
     },
     "execution_count": 147,
     "metadata": {},
     "output_type": "execute_result"
    }
   ],
   "source": [
    "Xs = sm.add_constant(X)\n",
    "Xs"
   ]
  },
  {
   "cell_type": "code",
   "execution_count": 148,
   "id": "cf55ab36-d36f-470a-a97a-37da51b07ef4",
   "metadata": {},
   "outputs": [
    {
     "data": {
      "text/html": [
       "<table class=\"simpletable\">\n",
       "<caption>OLS Regression Results</caption>\n",
       "<tr>\n",
       "  <th>Dep. Variable:</th>            <td>y</td>        <th>  R-squared:         </th>  <td>   0.531</td> \n",
       "</tr>\n",
       "<tr>\n",
       "  <th>Model:</th>                   <td>OLS</td>       <th>  Adj. R-squared:    </th>  <td>   0.531</td> \n",
       "</tr>\n",
       "<tr>\n",
       "  <th>Method:</th>             <td>Least Squares</td>  <th>  F-statistic:       </th>  <td>   1387.</td> \n",
       "</tr>\n",
       "<tr>\n",
       "  <th>Date:</th>             <td>Sun, 15 Sep 2024</td> <th>  Prob (F-statistic):</th>   <td>  0.00</td>  \n",
       "</tr>\n",
       "<tr>\n",
       "  <th>Time:</th>                 <td>15:44:44</td>     <th>  Log-Likelihood:    </th>  <td>  7342.2</td> \n",
       "</tr>\n",
       "<tr>\n",
       "  <th>No. Observations:</th>      <td>  2452</td>      <th>  AIC:               </th> <td>-1.468e+04</td>\n",
       "</tr>\n",
       "<tr>\n",
       "  <th>Df Residuals:</th>          <td>  2449</td>      <th>  BIC:               </th> <td>-1.466e+04</td>\n",
       "</tr>\n",
       "<tr>\n",
       "  <th>Df Model:</th>              <td>     2</td>      <th>                     </th>      <td> </td>    \n",
       "</tr>\n",
       "<tr>\n",
       "  <th>Covariance Type:</th>      <td>nonrobust</td>    <th>                     </th>      <td> </td>    \n",
       "</tr>\n",
       "</table>\n",
       "<table class=\"simpletable\">\n",
       "<tr>\n",
       "    <td></td>       <th>coef</th>     <th>std err</th>      <th>t</th>      <th>P>|t|</th>  <th>[0.025</th>    <th>0.975]</th>  \n",
       "</tr>\n",
       "<tr>\n",
       "  <th>const</th> <td>    0.0003</td> <td>    0.000</td> <td>    1.265</td> <td> 0.206</td> <td>   -0.000</td> <td>    0.001</td>\n",
       "</tr>\n",
       "<tr>\n",
       "  <th>x1</th>    <td>   -0.0001</td> <td>    0.000</td> <td>   -0.279</td> <td> 0.780</td> <td>   -0.001</td> <td>    0.001</td>\n",
       "</tr>\n",
       "<tr>\n",
       "  <th>x2</th>    <td>    1.1451</td> <td>    0.022</td> <td>   52.392</td> <td> 0.000</td> <td>    1.102</td> <td>    1.188</td>\n",
       "</tr>\n",
       "</table>\n",
       "<table class=\"simpletable\">\n",
       "<tr>\n",
       "  <th>Omnibus:</th>       <td>913.108</td> <th>  Durbin-Watson:     </th> <td>   1.938</td> \n",
       "</tr>\n",
       "<tr>\n",
       "  <th>Prob(Omnibus):</th> <td> 0.000</td>  <th>  Jarque-Bera (JB):  </th> <td>38642.038</td>\n",
       "</tr>\n",
       "<tr>\n",
       "  <th>Skew:</th>          <td> 1.037</td>  <th>  Prob(JB):          </th> <td>    0.00</td> \n",
       "</tr>\n",
       "<tr>\n",
       "  <th>Kurtosis:</th>      <td>22.337</td>  <th>  Cond. No.          </th> <td>    89.5</td> \n",
       "</tr>\n",
       "</table><br/><br/>Notes:<br/>[1] Standard Errors assume that the covariance matrix of the errors is correctly specified."
      ],
      "text/plain": [
       "<class 'statsmodels.iolib.summary.Summary'>\n",
       "\"\"\"\n",
       "                            OLS Regression Results                            \n",
       "==============================================================================\n",
       "Dep. Variable:                      y   R-squared:                       0.531\n",
       "Model:                            OLS   Adj. R-squared:                  0.531\n",
       "Method:                 Least Squares   F-statistic:                     1387.\n",
       "Date:                Sun, 15 Sep 2024   Prob (F-statistic):               0.00\n",
       "Time:                        15:44:44   Log-Likelihood:                 7342.2\n",
       "No. Observations:                2452   AIC:                        -1.468e+04\n",
       "Df Residuals:                    2449   BIC:                        -1.466e+04\n",
       "Df Model:                           2                                         \n",
       "Covariance Type:            nonrobust                                         \n",
       "==============================================================================\n",
       "                 coef    std err          t      P>|t|      [0.025      0.975]\n",
       "------------------------------------------------------------------------------\n",
       "const          0.0003      0.000      1.265      0.206      -0.000       0.001\n",
       "x1            -0.0001      0.000     -0.279      0.780      -0.001       0.001\n",
       "x2             1.1451      0.022     52.392      0.000       1.102       1.188\n",
       "==============================================================================\n",
       "Omnibus:                      913.108   Durbin-Watson:                   1.938\n",
       "Prob(Omnibus):                  0.000   Jarque-Bera (JB):            38642.038\n",
       "Skew:                           1.037   Prob(JB):                         0.00\n",
       "Kurtosis:                      22.337   Cond. No.                         89.5\n",
       "==============================================================================\n",
       "\n",
       "Notes:\n",
       "[1] Standard Errors assume that the covariance matrix of the errors is correctly specified.\n",
       "\"\"\""
      ]
     },
     "execution_count": 148,
     "metadata": {},
     "output_type": "execute_result"
    }
   ],
   "source": [
    "lr = sm.OLS(Y, Xs).fit()\n",
    "lr.summary()"
   ]
  },
  {
   "cell_type": "code",
   "execution_count": 149,
   "id": "7f763e5d-a51e-4063-a696-109ecd6ce760",
   "metadata": {},
   "outputs": [
    {
     "data": {
      "text/plain": [
       "array([ 3.12378871e-04, -1.28071611e-04,  1.14509662e+00])"
      ]
     },
     "execution_count": 149,
     "metadata": {},
     "output_type": "execute_result"
    }
   ],
   "source": [
    "beta"
   ]
  },
  {
   "cell_type": "markdown",
   "id": "aa6e3025-39dd-4f0e-a3bb-b2240d76b881",
   "metadata": {},
   "source": [
    "### Linearmodels\n",
    "https://github.com/bashtage/linearmodels/tree/main"
   ]
  },
  {
   "cell_type": "code",
   "execution_count": null,
   "id": "d03df695-1aaa-4e67-b9c9-e0eeb0b8bd9d",
   "metadata": {},
   "outputs": [],
   "source": [
    "#!pip install linearmodels"
   ]
  },
  {
   "cell_type": "code",
   "execution_count": 151,
   "id": "ebb9c08b-f203-45d3-a78f-7354569adf64",
   "metadata": {},
   "outputs": [
    {
     "name": "stdout",
     "output_type": "stream",
     "text": [
      "                          PooledOLS Estimation Summary                          \n",
      "================================================================================\n",
      "Dep. Variable:                 dlyret   R-squared:                        0.5311\n",
      "Estimator:                  PooledOLS   R-squared (Between):              0.0000\n",
      "No. Observations:                2452   R-squared (Within):               0.5311\n",
      "Date:                Sun, Sep 15 2024   R-squared (Overall):              0.5311\n",
      "Time:                        15:44:54   Log-likelihood                    7342.2\n",
      "Cov. Estimator:            Unadjusted                                           \n",
      "                                        F-statistic:                      1386.7\n",
      "Entities:                           1   P-value                           0.0000\n",
      "Avg Obs:                       2452.0   Distribution:                  F(2,2449)\n",
      "Min Obs:                       2452.0                                           \n",
      "Max Obs:                       2452.0   F-statistic (robust):             1386.7\n",
      "                                        P-value                           0.0000\n",
      "Time periods:                    2452   Distribution:                  F(2,2449)\n",
      "Avg Obs:                       1.0000                                           \n",
      "Min Obs:                       1.0000                                           \n",
      "Max Obs:                       1.0000                                           \n",
      "                                                                                \n",
      "                             Parameter Estimates                              \n",
      "==============================================================================\n",
      "            Parameter  Std. Err.     T-stat    P-value    Lower CI    Upper CI\n",
      "------------------------------------------------------------------------------\n",
      "const          0.0003     0.0002     1.2649     0.2060     -0.0002      0.0008\n",
      "chgrtn_vol    -0.0001     0.0005    -0.2790     0.7802     -0.0010      0.0008\n",
      "sprtrn         1.1451     0.0219     52.392     0.0000      1.1022      1.1880\n",
      "==============================================================================\n"
     ]
    }
   ],
   "source": [
    "x_cols = [\"chgrtn_vol\", \"sprtrn\"]\n",
    "x_vars = sm.add_constant(df_google[x_cols])\n",
    "mod = PooledOLS(df_google.dlyret, x_vars)\n",
    "pooled_res = mod.fit()\n",
    "print(pooled_res)"
   ]
  },
  {
   "cell_type": "code",
   "execution_count": null,
   "id": "5d8cf3d6-8c57-4e97-97fb-ff1bae7b3dcd",
   "metadata": {},
   "outputs": [],
   "source": []
  },
  {
   "cell_type": "markdown",
   "id": "2812aab2-37ef-439e-ae99-4f2f38e7ccf0",
   "metadata": {},
   "source": [
    "### Sklearn\n",
    "Scikit-Learn provides very simple and convenient APIs for training and evaluating popular machine learning models. Here we take linear regression as an example."
   ]
  },
  {
   "cell_type": "code",
   "execution_count": 154,
   "id": "4eaf9b17-55fa-427a-9735-5d6f40288bec",
   "metadata": {},
   "outputs": [],
   "source": [
    "from sklearn.linear_model import LinearRegression"
   ]
  },
  {
   "cell_type": "code",
   "execution_count": 161,
   "id": "043f6a31-5a64-4a81-8d56-81d4d298a2d8",
   "metadata": {},
   "outputs": [
    {
     "name": "stdout",
     "output_type": "stream",
     "text": [
      "0.0003123788708769506 [-1.28071611e-04  1.14509662e+00]\n"
     ]
    }
   ],
   "source": [
    "linearregress1 = LinearRegression(fit_intercept=True).fit(X, Y)\n",
    "print(linearregress1.intercept_, linearregress1.coef_)"
   ]
  },
  {
   "cell_type": "code",
   "execution_count": 162,
   "id": "d24c8bc9-edf9-4424-a862-17ac621a3beb",
   "metadata": {},
   "outputs": [
    {
     "data": {
      "text/plain": [
       "array([ 3.12378871e-04, -1.28071611e-04,  1.14509662e+00])"
      ]
     },
     "execution_count": 162,
     "metadata": {},
     "output_type": "execute_result"
    }
   ],
   "source": [
    "linearregress2 = LinearRegression(fit_intercept=False).fit(Xs, Y)\n",
    "linearregress2.coef_"
   ]
  },
  {
   "cell_type": "code",
   "execution_count": 163,
   "id": "c520e3ef-431f-4b0d-be25-4f3b2be45ae7",
   "metadata": {},
   "outputs": [
    {
     "data": {
      "text/plain": [
       "array([ 3.12378871e-04, -1.28071611e-04,  1.14509662e+00])"
      ]
     },
     "execution_count": 163,
     "metadata": {},
     "output_type": "execute_result"
    }
   ],
   "source": [
    "beta"
   ]
  },
  {
   "cell_type": "markdown",
   "id": "04ef9b1a-c992-41bb-9663-cd822813d5e1",
   "metadata": {
    "tags": []
   },
   "source": [
    "## Classification: Logistic Regression with Panelty\n",
    "https://compgenomr.github.io/book/logistic-regression-and-regularization.html"
   ]
  },
  {
   "cell_type": "markdown",
   "id": "f34be253-048c-4964-9ae2-6d356a35c2e5",
   "metadata": {},
   "source": [
    "+ If $y_i$ can only be 0 or 1, a simple linear regression will result in values that are beyond 0 and 1 boundaries.\n",
    "+ We can think of $y_i$ as a realization of a random variable that can take the values one and zero with probabilities $p_i$ and $1-p_i$, respectively, which follows the Bernoulli distribution.\n",
    "+ A model that satisfies the boundary requirement is the logistic equation shown below.\n",
    "\n",
    "$$\n",
    "p_i=\\frac{e^{\\left(\\beta_0+\\beta_1 x_i\\right)}}{1+e^{\\left(\\beta_0+\\beta_1 x_i\\right)}}\n",
    "$$"
   ]
  },
  {
   "cell_type": "markdown",
   "id": "3856c71d-d64b-47e9-a4f1-2bde1074d53f",
   "metadata": {},
   "source": [
    "+ It can be linearized by the following expression:\n",
    "$$\n",
    "\\operatorname{logit}\\left(p_i\\right)=\\ln \\left(\\frac{p_i}{1-p_i}\\right)=\\beta_0+\\beta_1 x_i\n",
    "$$"
   ]
  },
  {
   "cell_type": "markdown",
   "id": "605d41b3-86b0-4f0f-825e-42051365b64a",
   "metadata": {},
   "source": [
    "The maximizatiom log likelihood function is\n",
    "$$\n",
    "\\ln (L)=\\sum_{i=1}^N\\left[(1-y_i)\\ln \\left(1-p_i\\right)+y_i \\ln \\left({p_i}\\right)\\right]\n",
    "$$"
   ]
  },
  {
   "cell_type": "markdown",
   "id": "35ed8478-5814-45e6-8300-44aa25b48f02",
   "metadata": {},
   "source": [
    "### Regularization: in order to avoid overfitting\n",
    "+ If we can limit the flexibility of the model, this might help with performance on the unseen, new data sets, which is called regularization. \n",
    "+ By modifying the loss function with a penalty term which effectively shrinks the estimates of the coefficients, We need regularization to introduce bias to the model and to decrease the variance. This can be achieved . "
   ]
  },
  {
   "cell_type": "markdown",
   "id": "cc4ed4a3-9948-4cf5-9073-e227d0dcc06e",
   "metadata": {
    "tags": []
   },
   "source": [
    "#### L2 Norm, L2 Penalty: Ridge Regression\n",
    "$$\n",
    "L_{l o g}+\\lambda \\sum_{j=1}^p \\beta_j{ }^2\n",
    "$$"
   ]
  },
  {
   "cell_type": "markdown",
   "id": "d6e64382-cfd8-4d32-9a2a-b6c6497b4c4b",
   "metadata": {},
   "source": [
    "#### L1 Norm, L1 Panalty: LASSO Regression\n",
    "$$\n",
    "L_{l o g}+\\lambda \\sum_{j=1}^p\\left|\\beta_j\\right|\n",
    "$$"
   ]
  },
  {
   "cell_type": "markdown",
   "id": "94747e13-d2cf-45e1-a122-00df537035d0",
   "metadata": {},
   "source": [
    "#### Grid Search for optimal hyper-parameter"
   ]
  },
  {
   "cell_type": "code",
   "execution_count": 193,
   "id": "f5ed4cd3-a84c-4676-ab21-78befc932e75",
   "metadata": {},
   "outputs": [
    {
     "name": "stdout",
     "output_type": "stream",
     "text": [
      "independent variables\n",
      "[[20  8 34]\n",
      " [35 77 85]\n",
      " [92 36 68]\n",
      " [72 24 45]\n",
      " [ 5 99 76]\n",
      " [69 78 31]\n",
      " [26 93 63]\n",
      " [89 37 50]\n",
      " [73 91 11]\n",
      " [16  3 48]]\n",
      "===================\n",
      "dependent variables\n",
      "[0 0 0 0 1 1 1 1 1 1]\n"
     ]
    }
   ],
   "source": [
    "# generate data\n",
    "import random\n",
    "x = np.asarray(random.sample(range(0, 100), 30)).reshape(10, 3)\n",
    "y = np.array([0, 0, 0, 0, 1, 1, 1, 1, 1, 1])\n",
    "print(\"independent variables\")\n",
    "print(x)\n",
    "print(\"===================\")\n",
    "print(\"dependent variables\")\n",
    "print(y)"
   ]
  },
  {
   "cell_type": "code",
   "execution_count": 194,
   "id": "35a541fd-5322-4d86-8ee1-adfa0954b5be",
   "metadata": {},
   "outputs": [],
   "source": [
    "log_lambdas = np.linspace(-1,10,50)\n",
    "lambdas = np.exp(log_lambdas)\n",
    "inverse_lambda = 1/lambdas\n",
    "inverse_lambda = inverse_lambda.tolist()"
   ]
  },
  {
   "cell_type": "code",
   "execution_count": 196,
   "id": "73a2d5e3-0cd5-4b58-8983-693763964345",
   "metadata": {},
   "outputs": [
    {
     "name": "stdout",
     "output_type": "stream",
     "text": [
      "Best Parameters\n",
      "{'C': 0.05982530598025908, 'max_iter': 10000, 'penalty': 'l1', 'solver': 'liblinear'}\n",
      "================\n",
      "LogisticRegression(C=0.05982530598025908, max_iter=10000, penalty='l1',\n",
      "                   solver='liblinear')\n"
     ]
    }
   ],
   "source": [
    "param_grid_lr = {\n",
    "    'penalty' :['l1'], \n",
    "    'solver' : ['liblinear'], \n",
    "    'C': inverse_lambda,\n",
    "    'max_iter' : [10000]\n",
    "}\n",
    "lr1 = GridSearchCV(estimator = LogisticRegression(), \n",
    "                   param_grid = param_grid_lr, \n",
    "                   cv = 3,\n",
    "                   scoring = 'neg_mean_squared_error').fit(x,y)\n",
    "\n",
    "print(\"Best Parameters\")\n",
    "print(lr1.best_params_)\n",
    "print('================')\n",
    "print(lr1.best_estimator_)"
   ]
  },
  {
   "cell_type": "code",
   "execution_count": 197,
   "id": "82ab47b8-9b69-4514-903f-4e14ce5db562",
   "metadata": {
    "tags": []
   },
   "outputs": [
    {
     "name": "stdout",
     "output_type": "stream",
     "text": [
      "[[-0.00020588  0.02429628 -0.01686654]]\n",
      "0.05982530598025908\n"
     ]
    }
   ],
   "source": [
    "print(lr1.best_estimator_.coef_)\n",
    "print(lr1.best_params_['C'])"
   ]
  },
  {
   "cell_type": "markdown",
   "id": "3b238740-eb9d-46a0-9272-5975a35ecbd0",
   "metadata": {},
   "source": [
    "### prediction/classification"
   ]
  },
  {
   "cell_type": "code",
   "execution_count": 204,
   "id": "26308123-3bb7-4735-90a5-efd8c1f70797",
   "metadata": {},
   "outputs": [
    {
     "data": {
      "text/plain": [
       "array([0, 0, 0, 0, 1, 1, 1, 1, 1, 1])"
      ]
     },
     "execution_count": 204,
     "metadata": {},
     "output_type": "execute_result"
    }
   ],
   "source": [
    "y"
   ]
  },
  {
   "cell_type": "code",
   "execution_count": 205,
   "id": "f040f0b5-fb28-4dc9-8140-8e828bc8fe86",
   "metadata": {},
   "outputs": [
    {
     "data": {
      "text/plain": [
       "array([0, 1, 0, 0, 1, 1, 1, 1, 1, 0])"
      ]
     },
     "execution_count": 205,
     "metadata": {},
     "output_type": "execute_result"
    }
   ],
   "source": [
    "lr1.predict(x)"
   ]
  },
  {
   "cell_type": "code",
   "execution_count": 206,
   "id": "044172ea-b678-4148-af99-710544c9c4e7",
   "metadata": {},
   "outputs": [
    {
     "data": {
      "text/plain": [
       "array([[0.59464701, 0.40535299],\n",
       "       [0.39413787, 0.60586213],\n",
       "       [0.57228986, 0.42771014],\n",
       "       [0.54753282, 0.45246718],\n",
       "       [0.24555803, 0.75444197],\n",
       "       [0.2045589 , 0.7954411 ],\n",
       "       [0.23297132, 0.76702868],\n",
       "       [0.49067316, 0.50932684],\n",
       "       [0.11811535, 0.88188465],\n",
       "       [0.67699565, 0.32300435]])"
      ]
     },
     "execution_count": 206,
     "metadata": {},
     "output_type": "execute_result"
    }
   ],
   "source": [
    "lr1.predict_proba(x)"
   ]
  },
  {
   "cell_type": "markdown",
   "id": "bed5c818-52c7-422a-b3f7-99ff58bbd9ed",
   "metadata": {},
   "source": [
    "# Other methods\n",
    "https://scikit-learn.org/stable/user_guide.html\n",
    "\n",
    "+ Random Forest\n",
    "+ Support Vector Machine\n",
    "+ Gradient Boosting"
   ]
  },
  {
   "cell_type": "code",
   "execution_count": 213,
   "id": "d4941935-8bee-4eec-a8c8-d81f587bcbef",
   "metadata": {
    "tags": []
   },
   "outputs": [
    {
     "name": "stdout",
     "output_type": "stream",
     "text": [
      "independent variables\n",
      "(300, 3)\n",
      "===================\n",
      "dependent variable\n",
      "(300,)\n"
     ]
    }
   ],
   "source": [
    "x = np.asarray(random.sample(range(0, 900), 900)).reshape(300, 3)\n",
    "y = np.random.randint(0,2,300)\n",
    "print(\"independent variables\")\n",
    "print(x.shape)\n",
    "print(\"===================\")\n",
    "print(\"dependent variable\")\n",
    "print(y.shape)"
   ]
  },
  {
   "cell_type": "code",
   "execution_count": 215,
   "id": "59a247c3-9c31-43f8-a107-4697eb46f7ee",
   "metadata": {},
   "outputs": [
    {
     "name": "stdout",
     "output_type": "stream",
     "text": [
      "0.5761904761904761 0.5666666666666667 0.5666666666666667\n"
     ]
    }
   ],
   "source": [
    "from sklearn.model_selection import train_test_split\n",
    "# stratify your dataset using classification labels\n",
    "# train/validation/test=0.7/0.1/0.2\n",
    "x_train, x_test, y_train, y_test = train_test_split(x, y, test_size=0.2, random_state=42, stratify=y)\n",
    "x_train, x_val, y_train, y_val = train_test_split(x_train, y_train, test_size=0.125, random_state=42, stratify=y_train)\n",
    "print(y_train.mean(), y_val.mean(), y_test.mean())"
   ]
  },
  {
   "cell_type": "code",
   "execution_count": 216,
   "id": "74d3fd03-b2c1-465d-ae82-386e397a3ca6",
   "metadata": {},
   "outputs": [],
   "source": [
    "# standardized the data\n",
    "x_mean, x_std = x_train.mean(axis=0), x_train.std(axis=0)\n",
    "x_train = (x_train - x_mean) / x_std\n",
    "x_val = (x_val - x_mean) / x_std\n",
    "x_test = (x_test - x_mean) / x_std"
   ]
  },
  {
   "cell_type": "code",
   "execution_count": 218,
   "id": "75aba395-0451-4d05-a206-f6e93978cb2c",
   "metadata": {},
   "outputs": [],
   "source": [
    "from sklearn.ensemble import RandomForestClassifier\n",
    "from sklearn.svm import SVC\n",
    "from sklearn.ensemble import GradientBoostingClassifier\n",
    "\n",
    "rf_model = RandomForestClassifier()\n",
    "svm_model = SVC(probability=True)\n",
    "gb_model = GradientBoostingClassifier()\n",
    "\n",
    "# training\n",
    "rf_model.fit(x_train, y_train)\n",
    "svm_model.fit(x_train, y_train)\n",
    "gb_model.fit(x_train, y_train)\n",
    "\n",
    "# training\n",
    "svm_model.fit(x_train, y_train)\n",
    "rf_model.fit(x_train, y_train)\n",
    "gb_model.fit(x_train, y_train)\n",
    "\n",
    "# get predictions of training set\n",
    "svm_train_pred = svm_model.predict(x_train)\n",
    "rf_train_pred = rf_model.predict(x_train)\n",
    "gb_train_pred = gb_model.predict(x_train)\n",
    "\n",
    "# get predictions of validation set\n",
    "svm_val_pred = svm_model.predict(x_val)\n",
    "rf_val_pred = rf_model.predict(x_val)\n",
    "gb_val_pred = gb_model.predict(x_val)\n"
   ]
  },
  {
   "cell_type": "code",
   "execution_count": 219,
   "id": "f9cc4c7d-d07d-42a8-aa7a-18f8ba260fca",
   "metadata": {},
   "outputs": [
    {
     "name": "stdout",
     "output_type": "stream",
     "text": [
      "SVM ACC\n",
      "train=0.6190, val=0.6000\n",
      "Random reforest ACC\n",
      "train=1.0000, val=0.5333\n",
      "Gradiant boosting ACC\n",
      "train=0.9905, val=0.5667\n"
     ]
    }
   ],
   "source": [
    "from sklearn.metrics import accuracy_score, roc_auc_score\n",
    "\n",
    "svm_train_acc = accuracy_score(y_train, svm_train_pred)\n",
    "rf_train_acc = accuracy_score(y_train, rf_train_pred)\n",
    "gb_train_acc = accuracy_score(y_train, gb_train_pred)\n",
    "\n",
    "svm_val_acc = accuracy_score(y_val, svm_val_pred)\n",
    "rf_val_acc = accuracy_score(y_val, rf_val_pred)\n",
    "gb_val_acc = accuracy_score(y_val, gb_val_pred)\n",
    "\n",
    "print(f\"SVM ACC\\ntrain={svm_train_acc:.4f}, val={svm_val_acc:.4f}\")\n",
    "print(f\"Random reforest ACC\\ntrain={rf_train_acc:.4f}, val={rf_val_acc:.4f}\")\n",
    "print(f\"Gradiant boosting ACC\\ntrain={gb_train_acc:.4f}, val={gb_val_acc:.4f}\")\n"
   ]
  },
  {
   "cell_type": "code",
   "execution_count": 222,
   "id": "43ed19b2-7990-4cb6-a0d9-f3ccb69ac4fa",
   "metadata": {},
   "outputs": [
    {
     "name": "stdout",
     "output_type": "stream",
     "text": [
      "SVM AUC\n",
      "train=0.6903, val=0.7602\n",
      "Random reforest AUC\n",
      "train=1.0000, val=0.4434\n",
      "Gradiant boosting AUC\n",
      "train=0.9994, val=0.5520\n"
     ]
    }
   ],
   "source": [
    "# get probabilities of training set\n",
    "svm_train_prob = svm_model.predict_proba(x_train)[:, 1]\n",
    "rf_train_prob = rf_model.predict_proba(x_train)[:, 1]\n",
    "gb_train_prob = gb_model.predict_proba(x_train)[:, 1]\n",
    "\n",
    "# get probabilities of validation set\n",
    "svm_val_prob = svm_model.predict_proba(x_val)[:, 1]\n",
    "rf_val_prob = rf_model.predict_proba(x_val)[:, 1]\n",
    "gb_val_prob = gb_model.predict_proba(x_val)[:, 1]\n",
    "\n",
    "svm_train_auc = roc_auc_score(y_train, svm_train_prob)\n",
    "rf_train_auc = roc_auc_score(y_train, rf_train_prob)\n",
    "gb_train_auc = roc_auc_score(y_train, gb_train_prob)\n",
    "\n",
    "svm_val_auc = roc_auc_score(y_val, svm_val_prob)\n",
    "rf_val_auc = roc_auc_score(y_val, rf_val_prob)\n",
    "gb_val_auc = roc_auc_score(y_val, gb_val_prob)\n",
    "\n",
    "print(f\"SVM AUC\\ntrain={svm_train_auc:.4f}, val={svm_val_auc:.4f}\")\n",
    "print(f\"Random reforest AUC\\ntrain={rf_train_auc:.4f}, val={rf_val_auc:.4f}\")\n",
    "print(f\"Gradiant boosting AUC\\ntrain={gb_train_auc:.4f}, val={gb_val_auc:.4f}\")\n"
   ]
  },
  {
   "cell_type": "code",
   "execution_count": 223,
   "id": "20a7dedb-c4dc-4e16-a1c6-cd03926e8834",
   "metadata": {},
   "outputs": [
    {
     "name": "stdout",
     "output_type": "stream",
     "text": [
      "SVM\n",
      "ACC=0.5333, AUC=0.5317\n",
      "Random forest\n",
      "ACC=0.5500, AUC=0.5622\n",
      "Gradiant boosting\n",
      "ACC=0.5667, AUC=0.5656\n"
     ]
    }
   ],
   "source": [
    "# get predictions of test set\n",
    "\n",
    "svm_test_pred = svm_model.predict(x_test)\n",
    "rf_test_pred = rf_model.predict(x_test)\n",
    "gb_test_pred = gb_model.predict(x_test)\n",
    "\n",
    "svm_test_prob = svm_model.predict_proba(x_test)[:, 1]\n",
    "rf_test_prob = rf_model.predict_proba(x_test)[:, 1]\n",
    "gb_test_prob = gb_model.predict_proba(x_test)[:, 1]\n",
    "\n",
    "\n",
    "svm_test_acc = accuracy_score(y_test, svm_test_pred)\n",
    "rf_test_acc = accuracy_score(y_test, rf_test_pred)\n",
    "gb_test_acc = accuracy_score(y_test, gb_test_pred)\n",
    "\n",
    "svm_test_auc = roc_auc_score(y_test, svm_test_prob)\n",
    "rf_test_auc = roc_auc_score(y_test, rf_test_prob)\n",
    "gb_test_auc = roc_auc_score(y_test, gb_test_prob)\n",
    "\n",
    "print(\"SVM\")\n",
    "print(f\"ACC={svm_test_acc:.4f}, AUC={svm_test_auc:.4f}\")\n",
    "print(\"Random forest\")\n",
    "print(f\"ACC={rf_test_acc:.4f}, AUC={rf_test_auc:.4f}\")\n",
    "print(\"Gradiant boosting\")\n",
    "print(f\"ACC={gb_test_acc:.4f}, AUC={gb_test_auc:.4f}\")"
   ]
  },
  {
   "cell_type": "code",
   "execution_count": 224,
   "id": "8c42c36c-0ea5-4c3a-8ba3-b44efca843f6",
   "metadata": {},
   "outputs": [
    {
     "data": {
      "image/png": "[encoded data removed]",
      "text/plain": [
       "<Figure size 432x288 with 1 Axes>"
      ]
     },
     "metadata": {
      "needs_background": "light"
     },
     "output_type": "display_data"
    }
   ],
   "source": [
    "from sklearn.metrics import roc_curve\n",
    "\n",
    "fprs, tprs, thresholds = roc_curve(y_test, svm_test_prob)\n",
    "plt.plot(fprs, tprs, label=f\"SVM={svm_test_auc:.4f}\")\n",
    "fprs, tprs, thresholds = roc_curve(y_test, rf_test_prob)\n",
    "plt.plot(fprs, tprs, label=f\"RF={rf_test_auc:.4f}\")\n",
    "fprs, tprs, thresholds = roc_curve(y_test, gb_test_prob)\n",
    "plt.plot(fprs, tprs, label=f\"GB={gb_test_auc:.4f}\")\n",
    "plt.legend()\n",
    "plt.show()"
   ]
  },
  {
   "cell_type": "markdown",
   "id": "3ccdec4a-59c3-4db4-8a55-7c6980c88ba5",
   "metadata": {},
   "source": [
    "## Principle Component Analysis: PCA"
   ]
  },
  {
   "cell_type": "markdown",
   "id": "d1d6f07c-c548-42ce-9108-794d3fb5fb49",
   "metadata": {},
   "source": [
    "$$\n",
    "X = \\begin{pmatrix}\n",
    "x_{11} & x_{12} & \\cdots & x_{1k} \\\\\n",
    "x_{21} & x_{22} & \\cdots & x_{2k} \\\\\n",
    "\\vdots &\\vdots & & \\vdots \\\\\n",
    "x_{n1} & x_{n2} & \\cdots & x_{nk} \\\\\n",
    "\\end{pmatrix}\n",
    "$$"
   ]
  },
  {
   "cell_type": "markdown",
   "id": "996442c2-69b1-433e-a752-15bf4b854215",
   "metadata": {},
   "source": []
  },
  {
   "cell_type": "markdown",
   "id": "5143380b-4589-4bf0-8118-dd0d97f1ca8e",
   "metadata": {},
   "source": [
    "https://scikit-learn.org/stable/auto_examples/decomposition/index.html"
   ]
  },
  {
   "cell_type": "code",
   "execution_count": 2,
   "id": "272523fd-94f1-431f-ab30-81b0acd46477",
   "metadata": {},
   "outputs": [],
   "source": [
    "from sklearn import datasets\n",
    "from sklearn.decomposition import PCA\n",
    "import mpl_toolkits.mplot3d"
   ]
  },
  {
   "cell_type": "code",
   "execution_count": 3,
   "id": "afbc286e-a687-4c0a-9b10-e3b56b9c32f6",
   "metadata": {},
   "outputs": [],
   "source": [
    "iris = datasets.load_iris()\n",
    "X = iris.data\n",
    "X = X-X.mean(axis=0)"
   ]
  },
  {
   "cell_type": "code",
   "execution_count": 4,
   "id": "18a20387-4ceb-4b40-b7f0-4d12bb0bca4b",
   "metadata": {},
   "outputs": [
    {
     "data": {
      "text/plain": [
       "PCA(n_components=3)"
      ]
     },
     "execution_count": 4,
     "metadata": {},
     "output_type": "execute_result"
    }
   ],
   "source": [
    "pca = PCA(n_components=3)\n",
    "pca.fit(X)"
   ]
  },
  {
   "cell_type": "code",
   "execution_count": 5,
   "id": "4fb12039-4ef9-41aa-b71e-309ba65b0dc1",
   "metadata": {},
   "outputs": [
    {
     "data": {
      "text/plain": [
       "Text(0.5, 1.0, 'n_components vs. Explained Variance Ratio')"
      ]
     },
     "execution_count": 5,
     "metadata": {},
     "output_type": "execute_result"
    },
    {
     "data": {
      "image/png": "[encoded data removed]",
      "text/plain": [
       "<Figure size 600x300 with 1 Axes>"
      ]
     },
     "metadata": {
      "needs_background": "light"
     },
     "output_type": "display_data"
    }
   ],
   "source": [
    "nums = np.arange(4)\n",
    "var_ratio = []\n",
    "for num in nums:\n",
    "    pca = PCA(n_components=num)\n",
    "    pca.fit(X)\n",
    "    var_ratio.append(np.sum(pca.explained_variance_ratio_))\n",
    "\n",
    "plt.figure(figsize=(4,2),dpi=150)\n",
    "plt.grid()\n",
    "plt.plot(nums,var_ratio,marker='o')\n",
    "plt.xlabel('n_components')\n",
    "plt.ylabel('Explained variance ratio')\n",
    "plt.title('n_components vs. Explained Variance Ratio')"
   ]
  },
  {
   "cell_type": "code",
   "execution_count": 6,
   "id": "210896dd-7bc4-4b25-89d4-185f60fe4f25",
   "metadata": {
    "tags": []
   },
   "outputs": [
    {
     "data": {
      "text/plain": [
       "array([0.92461872, 0.05306648, 0.01710261])"
      ]
     },
     "execution_count": 6,
     "metadata": {},
     "output_type": "execute_result"
    }
   ],
   "source": [
    "pca.explained_variance_ratio_"
   ]
  },
  {
   "cell_type": "code",
   "execution_count": 7,
   "id": "4f4230e6-3987-49bf-9221-eb27421c9920",
   "metadata": {},
   "outputs": [],
   "source": [
    "X_new = pca.transform(X)"
   ]
  },
  {
   "cell_type": "markdown",
   "id": "63365f47-de19-4bc8-8a19-5cb3c0fe6614",
   "metadata": {},
   "source": [
    "### by eigenvector"
   ]
  },
  {
   "cell_type": "code",
   "execution_count": 16,
   "id": "6906893e-ec7b-4920-9983-7cb815f848b7",
   "metadata": {},
   "outputs": [],
   "source": [
    "X = iris.data\n",
    "X = X-X.mean(axis=0)"
   ]
  },
  {
   "cell_type": "code",
   "execution_count": 17,
   "id": "42f0f17b-48f2-41a6-97cc-f93ae4fd3c85",
   "metadata": {},
   "outputs": [
    {
     "data": {
      "text/plain": [
       "array([[ 0.68569351, -0.042434  ,  1.27431544,  0.51627069],\n",
       "       [-0.042434  ,  0.18997942, -0.32965638, -0.12163937],\n",
       "       [ 1.27431544, -0.32965638,  3.11627785,  1.2956094 ],\n",
       "       [ 0.51627069, -0.12163937,  1.2956094 ,  0.58100626]])"
      ]
     },
     "execution_count": 17,
     "metadata": {},
     "output_type": "execute_result"
    }
   ],
   "source": [
    "cov = np.cov(X.T, bias = False)\n",
    "cov"
   ]
  },
  {
   "cell_type": "code",
   "execution_count": 18,
   "id": "23315d83-fd87-42f2-ba61-307e7962c62f",
   "metadata": {},
   "outputs": [],
   "source": [
    "# The normalized (unit “length”) eigenvectors, \n",
    "# such that the column eigenvectors[:,i] is the eigenvector corresponding to the eigenvalue eigenvalues[i]\n",
    "eigval, eigvector = np.linalg.eig(cov)\n",
    "\n"
   ]
  },
  {
   "cell_type": "code",
   "execution_count": 19,
   "id": "c097c477-4766-4760-91c4-591e381389ed",
   "metadata": {},
   "outputs": [
    {
     "data": {
      "text/plain": [
       "array([4.22824171, 0.24267075, 0.0782095 , 0.02383509])"
      ]
     },
     "execution_count": 19,
     "metadata": {},
     "output_type": "execute_result"
    }
   ],
   "source": [
    "eigval"
   ]
  },
  {
   "cell_type": "code",
   "execution_count": 20,
   "id": "bca1b569-974c-4cb2-a4f0-03349eff679f",
   "metadata": {},
   "outputs": [
    {
     "data": {
      "text/plain": [
       "array([[ 0.36138659, -0.65658877, -0.58202985,  0.31548719],\n",
       "       [-0.08452251, -0.73016143,  0.59791083, -0.3197231 ],\n",
       "       [ 0.85667061,  0.17337266,  0.07623608, -0.47983899],\n",
       "       [ 0.3582892 ,  0.07548102,  0.54583143,  0.75365743]])"
      ]
     },
     "execution_count": 20,
     "metadata": {},
     "output_type": "execute_result"
    }
   ],
   "source": [
    "sorted_eigvec = eigvector[:,np.argsort(-eigval)]\n",
    "sorted_eigvec"
   ]
  },
  {
   "cell_type": "code",
   "execution_count": 21,
   "id": "089e199f-2cd6-401c-87fd-16b19ab475c5",
   "metadata": {},
   "outputs": [
    {
     "data": {
      "text/plain": [
       "array([[ 0.36138659, -0.65658877, -0.58202985],\n",
       "       [-0.08452251, -0.73016143,  0.59791083],\n",
       "       [ 0.85667061,  0.17337266,  0.07623608],\n",
       "       [ 0.3582892 ,  0.07548102,  0.54583143]])"
      ]
     },
     "execution_count": 21,
     "metadata": {},
     "output_type": "execute_result"
    }
   ],
   "source": [
    "W = sorted_eigvec[:,0:3]\n",
    "W"
   ]
  },
  {
   "cell_type": "code",
   "execution_count": 27,
   "id": "84a81981-77c3-4fe6-907c-cef79eafc944",
   "metadata": {
    "tags": []
   },
   "outputs": [
    {
     "data": {
      "text/plain": [
       "array([[-2.68412563,  0.31939725, -0.02791483],\n",
       "       [-2.71414169, -0.17700123, -0.21046427],\n",
       "       [-2.88899057, -0.14494943,  0.01790026],\n",
       "       [-2.74534286, -0.31829898,  0.03155937],\n",
       "       [-2.72871654,  0.32675451,  0.09007924],\n",
       "       [-2.28085963,  0.74133045,  0.16867766],\n",
       "       [-2.82053775, -0.08946138,  0.25789216],\n",
       "       [-2.62614497,  0.16338496, -0.02187932],\n",
       "       [-2.88638273, -0.57831175,  0.02075957],\n",
       "       [-2.6727558 , -0.11377425, -0.19763272]])"
      ]
     },
     "execution_count": 27,
     "metadata": {},
     "output_type": "execute_result"
    }
   ],
   "source": [
    "X_new[0:10, :]"
   ]
  },
  {
   "cell_type": "code",
   "execution_count": 28,
   "id": "ace79752-6c57-42bd-a992-3f209ee8d2d7",
   "metadata": {
    "collapsed": true,
    "jupyter": {
     "outputs_hidden": true
    },
    "tags": []
   },
   "outputs": [
    {
     "data": {
      "text/plain": [
       "array([[-2.68412563, -0.31939725, -0.02791483],\n",
       "       [-2.71414169,  0.17700123, -0.21046427],\n",
       "       [-2.88899057,  0.14494943,  0.01790026],\n",
       "       [-2.74534286,  0.31829898,  0.03155937],\n",
       "       [-2.72871654, -0.32675451,  0.09007924],\n",
       "       [-2.28085963, -0.74133045,  0.16867766],\n",
       "       [-2.82053775,  0.08946138,  0.25789216],\n",
       "       [-2.62614497, -0.16338496, -0.02187932],\n",
       "       [-2.88638273,  0.57831175,  0.02075957],\n",
       "       [-2.6727558 ,  0.11377425, -0.19763272],\n",
       "       [-2.50694709, -0.6450689 , -0.07531801],\n",
       "       [-2.61275523, -0.01472994,  0.10215026],\n",
       "       [-2.78610927,  0.235112  , -0.20684443],\n",
       "       [-3.22380374,  0.51139459,  0.06129967],\n",
       "       [-2.64475039, -1.17876464, -0.15162752],\n",
       "       [-2.38603903, -1.33806233,  0.2777769 ],\n",
       "       [-2.62352788, -0.81067951,  0.13818323],\n",
       "       [-2.64829671, -0.31184914,  0.02666832],\n",
       "       [-2.19982032, -0.87283904, -0.12030552],\n",
       "       [-2.5879864 , -0.51356031,  0.21366517],\n",
       "       [-2.31025622, -0.39134594, -0.23944404],\n",
       "       [-2.54370523, -0.43299606,  0.20845723],\n",
       "       [-3.21593942, -0.13346807,  0.29239675],\n",
       "       [-2.30273318, -0.09870885,  0.03912326],\n",
       "       [-2.35575405,  0.03728186,  0.12502108],\n",
       "       [-2.50666891,  0.14601688, -0.25342004],\n",
       "       [-2.46882007, -0.13095149,  0.09491058],\n",
       "       [-2.56231991, -0.36771886, -0.07849421],\n",
       "       [-2.63953472, -0.31203998, -0.1459089 ],\n",
       "       [-2.63198939,  0.19696122,  0.04077108],\n",
       "       [-2.58739848,  0.20431849, -0.07722299],\n",
       "       [-2.4099325 , -0.41092426, -0.14552497],\n",
       "       [-2.64886233, -0.81336382,  0.22566915],\n",
       "       [-2.59873675, -1.09314576,  0.15781081],\n",
       "       [-2.63692688,  0.12132235, -0.14304958],\n",
       "       [-2.86624165, -0.06936447, -0.16433231],\n",
       "       [-2.62523805, -0.59937002, -0.26835038],\n",
       "       [-2.80068412, -0.26864374,  0.09369908],\n",
       "       [-2.98050204,  0.48795834,  0.07292705],\n",
       "       [-2.59000631, -0.22904384, -0.0800823 ],\n",
       "       [-2.77010243, -0.26352753,  0.07724769],\n",
       "       [-2.84936871,  0.94096057, -0.34923038],\n",
       "       [-2.99740655,  0.34192606,  0.19250921],\n",
       "       [-2.40561449, -0.18887143,  0.26386795],\n",
       "       [-2.20948924, -0.43666314,  0.29874275],\n",
       "       [-2.71445143,  0.2502082 , -0.09767814],\n",
       "       [-2.53814826, -0.50377114,  0.16670564],\n",
       "       [-2.83946217,  0.22794557,  0.08372685],\n",
       "       [-2.54308575, -0.57941002, -0.01711502],\n",
       "       [-2.70335978, -0.10770608, -0.08929401],\n",
       "       [ 1.28482569, -0.68516047, -0.40656803],\n",
       "       [ 0.93248853, -0.31833364, -0.01801419],\n",
       "       [ 1.46430232, -0.50426282, -0.33832576],\n",
       "       [ 0.18331772,  0.82795901, -0.17959139],\n",
       "       [ 1.08810326, -0.07459068, -0.3077579 ],\n",
       "       [ 0.64166908,  0.41824687,  0.04107609],\n",
       "       [ 1.09506066, -0.28346827,  0.16981024],\n",
       "       [-0.74912267,  1.00489096,  0.01230292],\n",
       "       [ 1.04413183, -0.2283619 , -0.41533608],\n",
       "       [-0.0087454 ,  0.72308191,  0.28114143],\n",
       "       [-0.50784088,  1.26597119, -0.26981718],\n",
       "       [ 0.51169856,  0.10398124,  0.13054775],\n",
       "       [ 0.26497651,  0.55003646, -0.69414683],\n",
       "       [ 0.98493451,  0.12481785, -0.06211441],\n",
       "       [-0.17392537,  0.25485421,  0.09045769],\n",
       "       [ 0.92786078, -0.46717949, -0.31462098],\n",
       "       [ 0.66028376,  0.35296967,  0.32802753],\n",
       "       [ 0.23610499,  0.33361077, -0.27116184],\n",
       "       [ 0.94473373,  0.54314555, -0.49951905],\n",
       "       [ 0.04522698,  0.58383438, -0.2350021 ],\n",
       "       [ 1.11628318,  0.08461685,  0.45962099],\n",
       "       [ 0.35788842,  0.06892503, -0.22985389],\n",
       "       [ 1.29818388,  0.32778731, -0.34785435],\n",
       "       [ 0.92172892,  0.18273779, -0.23107178],\n",
       "       [ 0.71485333, -0.14905594, -0.32180094],\n",
       "       [ 0.90017437, -0.32850447, -0.31620907],\n",
       "       [ 1.33202444, -0.24444088, -0.52170278],\n",
       "       [ 1.55780216, -0.26749545, -0.16492098],\n",
       "       [ 0.81329065,  0.1633503 ,  0.0354245 ],\n",
       "       [-0.30558378,  0.36826219, -0.31849158],\n",
       "       [-0.06812649,  0.70517213, -0.24421381],\n",
       "       [-0.18962247,  0.68028676, -0.30642056],\n",
       "       [ 0.13642871,  0.31403244, -0.17724277],\n",
       "       [ 1.38002644,  0.42095429,  0.01616713],\n",
       "       [ 0.58800644,  0.48428742,  0.4444335 ],\n",
       "       [ 0.80685831, -0.19418231,  0.38896306],\n",
       "       [ 1.22069088, -0.40761959, -0.23716701],\n",
       "       [ 0.81509524,  0.37203706, -0.61472084],\n",
       "       [ 0.24595768,  0.2685244 ,  0.18836681],\n",
       "       [ 0.16641322,  0.68192672, -0.06000923],\n",
       "       [ 0.46480029,  0.67071154, -0.02430686],\n",
       "       [ 0.8908152 ,  0.03446444, -0.00994693],\n",
       "       [ 0.23054802,  0.40438585, -0.22941024],\n",
       "       [-0.70453176,  1.01224823, -0.10569115],\n",
       "       [ 0.35698149,  0.50491009,  0.01661717],\n",
       "       [ 0.33193448,  0.21265468,  0.08320429],\n",
       "       [ 0.37621565,  0.29321893,  0.07799635],\n",
       "       [ 0.64257601, -0.01773819, -0.20539497],\n",
       "       [-0.90646986,  0.75609337, -0.01259965],\n",
       "       [ 0.29900084,  0.34889781,  0.01058166],\n",
       "       [ 2.53119273,  0.00984911,  0.76016543],\n",
       "       [ 1.41523588,  0.57491635,  0.29632253],\n",
       "       [ 2.61667602, -0.34390315, -0.11078788],\n",
       "       [ 1.97153105,  0.1797279 ,  0.10842466],\n",
       "       [ 2.35000592,  0.04026095,  0.28538956],\n",
       "       [ 3.39703874, -0.55083667, -0.34843756],\n",
       "       [ 0.52123224,  1.19275873,  0.5456593 ],\n",
       "       [ 2.93258707, -0.3555    , -0.42023994],\n",
       "       [ 2.32122882,  0.2438315 , -0.34830439],\n",
       "       [ 2.91675097, -0.78279195,  0.42333542],\n",
       "       [ 1.66177415, -0.24222841,  0.24244019],\n",
       "       [ 1.80340195,  0.21563762, -0.03764817],\n",
       "       [ 2.1655918 , -0.21627559,  0.03332664],\n",
       "       [ 1.34616358,  0.77681835,  0.28190288],\n",
       "       [ 1.58592822,  0.53964071,  0.62902933],\n",
       "       [ 1.90445637, -0.11925069,  0.47963982],\n",
       "       [ 1.94968906, -0.04194326,  0.04418617],\n",
       "       [ 3.48705536, -1.17573933,  0.13389487],\n",
       "       [ 3.79564542, -0.25732297, -0.51376776],\n",
       "       [ 1.30079171,  0.76114964, -0.34499504],\n",
       "       [ 2.42781791, -0.37819601,  0.21911932],\n",
       "       [ 1.19900111,  0.60609153,  0.51185551],\n",
       "       [ 3.49992004, -0.4606741 , -0.57318224],\n",
       "       [ 1.38876613,  0.20439933, -0.06452276],\n",
       "       [ 2.2754305 , -0.33499061,  0.28615009],\n",
       "       [ 2.61409047, -0.56090136, -0.20553452],\n",
       "       [ 1.25850816,  0.17970479,  0.0458477 ],\n",
       "       [ 1.29113206,  0.11666865,  0.23125646],\n",
       "       [ 2.12360872,  0.20972948,  0.15418002],\n",
       "       [ 2.38800302, -0.4646398 , -0.44953019],\n",
       "       [ 2.84167278, -0.37526917, -0.49889808],\n",
       "       [ 3.23067366, -1.37416509, -0.11454821],\n",
       "       [ 2.15943764,  0.21727758,  0.20876317],\n",
       "       [ 1.44416124,  0.14341341, -0.15323389],\n",
       "       [ 1.78129481,  0.49990168, -0.17287519],\n",
       "       [ 3.07649993, -0.68808568, -0.33559229],\n",
       "       [ 2.14424331, -0.1400642 ,  0.73487894],\n",
       "       [ 1.90509815, -0.04930053,  0.16218024],\n",
       "       [ 1.16932634,  0.16499026,  0.28183584],\n",
       "       [ 2.10761114, -0.37228787,  0.02729113],\n",
       "       [ 2.31415471, -0.18365128,  0.32269375],\n",
       "       [ 1.9222678 , -0.40920347,  0.1135866 ],\n",
       "       [ 1.41523588,  0.57491635,  0.29632253],\n",
       "       [ 2.56301338, -0.2778626 ,  0.29256952],\n",
       "       [ 2.41874618, -0.3047982 ,  0.50448266],\n",
       "       [ 1.94410979, -0.1875323 ,  0.17782509],\n",
       "       [ 1.52716661,  0.37531698, -0.12189817],\n",
       "       [ 1.76434572, -0.07885885,  0.13048163],\n",
       "       [ 1.90094161, -0.11662796,  0.72325156],\n",
       "       [ 1.39018886,  0.28266094,  0.36290965]])"
      ]
     },
     "execution_count": 28,
     "metadata": {},
     "output_type": "execute_result"
    }
   ],
   "source": [
    "X@W"
   ]
  },
  {
   "cell_type": "code",
   "execution_count": null,
   "id": "ec6ceff6-fab3-40a9-98ee-e3f63b2e0ab8",
   "metadata": {},
   "outputs": [],
   "source": []
  },
  {
   "cell_type": "markdown",
   "id": "622f9af8-6939-4721-a4ad-1da41764859a",
   "metadata": {},
   "source": [
    "# Deep Learning Basic\n",
    "\n",
    "In order to implement deep learning, people usually choose a framework, either Pytorch, TensorFlow, Keras\n",
    "\n",
    "PyTorch Tutorials: \n",
    "+ https://pytorch.org/tutorials/beginner/pytorch_with_examples.html \n",
    "+ https://github.com/mrdbourke/pytorch-deep-learning/tree/main"
   ]
  },
  {
   "cell_type": "code",
   "execution_count": 2,
   "id": "00fd6c98-41cb-4c13-ad60-e2a9d5b7c021",
   "metadata": {},
   "outputs": [],
   "source": [
    "import torch"
   ]
  },
  {
   "cell_type": "code",
   "execution_count": 22,
   "id": "658a6a8a-4ff9-4a05-aa2c-df365e075c1c",
   "metadata": {},
   "outputs": [
    {
     "data": {
      "text/plain": [
       "'2.4.1'"
      ]
     },
     "execution_count": 22,
     "metadata": {},
     "output_type": "execute_result"
    }
   ],
   "source": [
    "torch.__version__"
   ]
  },
  {
   "cell_type": "code",
   "execution_count": 4,
   "id": "52457f7e-0c5b-41b2-9840-7557b607a23a",
   "metadata": {},
   "outputs": [
    {
     "name": "stdout",
     "output_type": "stream",
     "text": [
      "False\n",
      "0\n"
     ]
    }
   ],
   "source": [
    "print(torch.cuda.is_available())\n",
    "print(torch.cuda.device_count())"
   ]
  },
  {
   "cell_type": "code",
   "execution_count": 5,
   "id": "ea7e4e58-a1dc-47b3-b042-181626640697",
   "metadata": {},
   "outputs": [
    {
     "name": "stdout",
     "output_type": "stream",
     "text": [
      "zsh:1: command not found: nvidia-smi\n"
     ]
    }
   ],
   "source": [
    "!nvidia-smi"
   ]
  },
  {
   "cell_type": "code",
   "execution_count": 6,
   "id": "cf5ea768-db0a-4642-b977-bbcd507043d7",
   "metadata": {},
   "outputs": [
    {
     "data": {
      "text/plain": [
       "'mps'"
      ]
     },
     "execution_count": 6,
     "metadata": {},
     "output_type": "execute_result"
    }
   ],
   "source": [
    "# Set device type\n",
    "if torch.cuda.is_available():\n",
    "    device = \"cuda\" # Use NVIDIA GPU (if available)\n",
    "elif torch.backends.mps.is_available():\n",
    "    device = \"mps\" # Use Apple Silicon GPU (if available)\n",
    "else:\n",
    "    device = \"cpu\" # Default to CPU if no GPU is available\n",
    "\n",
    "device"
   ]
  },
  {
   "cell_type": "markdown",
   "id": "a2e52ed7-adb3-469c-bc92-ca35ce25ae0b",
   "metadata": {},
   "source": [
    "## Gradient Descent\n",
    "$$\n",
    "\\min_{x \\in R} f(x) ~ \\text{ where  } f(x) = (x-100)^2\n",
    "$$\n",
    "\n",
    "gradient:\n",
    "$$\n",
    "\\frac{df}{dx} = 2(x-100)\n",
    "$$\n",
    "\n",
    "$$\n",
    "x^{(k+1)} = x^{(k)} - \\alpha^{(k)} \\frac{df}{dx}\\Bigg|_{x = x^{(k)}}\n",
    "$$"
   ]
  },
  {
   "cell_type": "code",
   "execution_count": 30,
   "id": "2702f71f-d63c-4857-abdb-710aebb9d79f",
   "metadata": {
    "collapsed": true,
    "jupyter": {
     "outputs_hidden": true
    },
    "tags": []
   },
   "outputs": [
    {
     "name": "stdout",
     "output_type": "stream",
     "text": [
      "0 times of iteration have been completed\n",
      " --> Now x_min =  46.0\n",
      "=============================================\n",
      "1 times of iteration have been completed\n",
      " --> Now x_min =  67.6\n",
      "=============================================\n",
      "2 times of iteration have been completed\n",
      " --> Now x_min =  80.56\n",
      "=============================================\n",
      "3 times of iteration have been completed\n",
      " --> Now x_min =  88.336\n",
      "=============================================\n",
      "4 times of iteration have been completed\n",
      " --> Now x_min =  93.0016\n",
      "=============================================\n",
      "5 times of iteration have been completed\n",
      " --> Now x_min =  95.80096\n",
      "=============================================\n",
      "6 times of iteration have been completed\n",
      " --> Now x_min =  97.480576\n",
      "=============================================\n",
      "7 times of iteration have been completed\n",
      " --> Now x_min =  98.4883456\n",
      "=============================================\n",
      "8 times of iteration have been completed\n",
      " --> Now x_min =  99.09300736\n",
      "=============================================\n",
      "9 times of iteration have been completed\n",
      " --> Now x_min =  99.455804416\n",
      "=============================================\n",
      "10 times of iteration have been completed\n",
      " --> Now x_min =  99.6734826496\n",
      "=============================================\n",
      "11 times of iteration have been completed\n",
      " --> Now x_min =  99.80408958976\n",
      "=============================================\n",
      "12 times of iteration have been completed\n",
      " --> Now x_min =  99.882453753856\n",
      "=============================================\n",
      "13 times of iteration have been completed\n",
      " --> Now x_min =  99.9294722523136\n",
      "=============================================\n",
      "14 times of iteration have been completed\n",
      " --> Now x_min =  99.95768335138816\n",
      "=============================================\n",
      "15 times of iteration have been completed\n",
      " --> Now x_min =  99.97461001083289\n",
      "=============================================\n",
      "16 times of iteration have been completed\n",
      " --> Now x_min =  99.98476600649974\n",
      "=============================================\n",
      "17 times of iteration have been completed\n",
      " --> Now x_min =  99.99085960389985\n",
      "=============================================\n",
      "18 times of iteration have been completed\n",
      " --> Now x_min =  99.99451576233992\n",
      "=============================================\n",
      "19 times of iteration have been completed\n",
      " --> Now x_min =  99.99670945740395\n",
      "=============================================\n",
      "20 times of iteration have been completed\n",
      " --> Now x_min =  99.99802567444237\n",
      "=============================================\n",
      "21 times of iteration have been completed\n",
      " --> Now x_min =  99.99881540466542\n",
      "=============================================\n",
      "22 times of iteration have been completed\n",
      " --> Now x_min =  99.99928924279925\n",
      "=============================================\n",
      "23 times of iteration have been completed\n",
      " --> Now x_min =  99.99957354567955\n",
      "=============================================\n",
      "24 times of iteration have been completed\n",
      " --> Now x_min =  99.99974412740774\n",
      "=============================================\n",
      "25 times of iteration have been completed\n",
      " --> Now x_min =  99.99984647644465\n",
      "=============================================\n",
      "26 times of iteration have been completed\n",
      " --> Now x_min =  99.99990788586679\n",
      "=============================================\n",
      "27 times of iteration have been completed\n",
      " --> Now x_min =  99.99994473152007\n",
      "=============================================\n",
      "28 times of iteration have been completed\n",
      " --> Now x_min =  99.99996683891204\n",
      "=============================================\n",
      "29 times of iteration have been completed\n",
      " --> Now x_min =  99.99998010334723\n",
      "=============================================\n",
      "30 times of iteration have been completed\n",
      " --> Now x_min =  99.99998806200834\n",
      "=============================================\n",
      "31 times of iteration have been completed\n",
      " --> Now x_min =  99.999992837205\n",
      "=============================================\n",
      "32 times of iteration have been completed\n",
      " --> Now x_min =  99.999995702323\n",
      "=============================================\n",
      "33 times of iteration have been completed\n",
      " --> Now x_min =  99.9999974213938\n",
      "=============================================\n",
      "34 times of iteration have been completed\n",
      " --> Now x_min =  99.99999845283628\n",
      "=============================================\n",
      "35 times of iteration have been completed\n",
      " --> Now x_min =  99.99999907170177\n",
      "=============================================\n",
      "36 times of iteration have been completed\n",
      " --> Now x_min =  99.99999944302105\n",
      "=============================================\n",
      "37 times of iteration have been completed\n",
      " --> Now x_min =  99.99999966581264\n",
      "=============================================\n",
      "38 times of iteration have been completed\n",
      " --> Now x_min =  99.99999979948758\n",
      "=============================================\n",
      "39 times of iteration have been completed\n",
      " --> Now x_min =  99.99999987969255\n",
      "=============================================\n",
      "40 times of iteration have been completed\n",
      " --> Now x_min =  99.99999992781554\n",
      "=============================================\n",
      "41 times of iteration have been completed\n",
      " --> Now x_min =  99.99999995668932\n",
      "=============================================\n",
      "42 times of iteration have been completed\n",
      " --> Now x_min =  99.99999997401359\n",
      "=============================================\n",
      "43 times of iteration have been completed\n",
      " --> Now x_min =  99.99999998440815\n",
      "=============================================\n",
      "44 times of iteration have been completed\n",
      " --> Now x_min =  99.9999999906449\n",
      "=============================================\n",
      "45 times of iteration have been completed\n",
      " --> Now x_min =  99.99999999438694\n",
      "=============================================\n",
      "46 times of iteration have been completed\n",
      " --> Now x_min =  99.99999999663217\n",
      "=============================================\n",
      "47 times of iteration have been completed\n",
      " --> Now x_min =  99.9999999979793\n",
      "=============================================\n",
      "48 times of iteration have been completed\n",
      " --> Now x_min =  99.99999999878759\n",
      "=============================================\n",
      "49 times of iteration have been completed\n",
      " --> Now x_min =  99.99999999927255\n",
      "=============================================\n"
     ]
    }
   ],
   "source": [
    "n = 50\n",
    "x_min = 10.0\n",
    "alpha =0.2\n",
    "for i in range(n):\n",
    "    # obtain the gradient at point x^{(k)}\n",
    "    grad = 2 * (x_min - 100.0) \n",
    "    # update the current value of x_min \n",
    "    x_min = x_min - alpha * grad\n",
    "    print(i, 'times of iteration have been completed' )\n",
    "    print(' --> Now x_min = ', x_min)\n",
    "    print('=============================================')"
   ]
  },
  {
   "cell_type": "code",
   "execution_count": 31,
   "id": "a9cf0c4a-cc31-4e51-8248-f62a825dfaf3",
   "metadata": {},
   "outputs": [],
   "source": [
    "from torch.autograd import Variable"
   ]
  },
  {
   "cell_type": "code",
   "execution_count": 32,
   "id": "828b4d68-c0dd-4a07-b91c-10af0d66121b",
   "metadata": {},
   "outputs": [
    {
     "name": "stdout",
     "output_type": "stream",
     "text": [
      "torch.Size([1])\n"
     ]
    },
    {
     "data": {
      "text/plain": [
       "tensor([8.], requires_grad=True)"
      ]
     },
     "execution_count": 32,
     "metadata": {},
     "output_type": "execute_result"
    }
   ],
   "source": [
    "x_min = Variable(torch.FloatTensor(8.0 * np.ones(1)), requires_grad = True)\n",
    "print(x_min.shape)\n",
    "x_min"
   ]
  },
  {
   "cell_type": "code",
   "execution_count": 33,
   "id": "f3d18b5e-11e8-492b-998d-4723d65a7c1a",
   "metadata": {},
   "outputs": [
    {
     "name": "stdout",
     "output_type": "stream",
     "text": [
      "tensor([-184.])\n"
     ]
    }
   ],
   "source": [
    "f = (x_min - 100)**2\n",
    "f.backward()\n",
    "print(x_min.grad)"
   ]
  },
  {
   "cell_type": "code",
   "execution_count": 36,
   "id": "a139c1ef-01a4-4012-953e-e6e494a95f39",
   "metadata": {
    "collapsed": true,
    "jupyter": {
     "outputs_hidden": true
    },
    "tags": []
   },
   "outputs": [
    {
     "name": "stdout",
     "output_type": "stream",
     "text": [
      "0 times of iteration\n",
      " --> Now x_min =  tensor([46.], requires_grad=True)\n",
      "=============================================\n",
      "1 times of iteration\n",
      " --> Now x_min =  tensor([67.6000], requires_grad=True)\n",
      "=============================================\n",
      "2 times of iteration\n",
      " --> Now x_min =  tensor([80.5600], requires_grad=True)\n",
      "=============================================\n",
      "3 times of iteration\n",
      " --> Now x_min =  tensor([88.3360], requires_grad=True)\n",
      "=============================================\n",
      "4 times of iteration\n",
      " --> Now x_min =  tensor([93.0016], requires_grad=True)\n",
      "=============================================\n",
      "5 times of iteration\n",
      " --> Now x_min =  tensor([95.8010], requires_grad=True)\n",
      "=============================================\n",
      "6 times of iteration\n",
      " --> Now x_min =  tensor([97.4806], requires_grad=True)\n",
      "=============================================\n",
      "7 times of iteration\n",
      " --> Now x_min =  tensor([98.4883], requires_grad=True)\n",
      "=============================================\n",
      "8 times of iteration\n",
      " --> Now x_min =  tensor([99.0930], requires_grad=True)\n",
      "=============================================\n",
      "9 times of iteration\n",
      " --> Now x_min =  tensor([99.4558], requires_grad=True)\n",
      "=============================================\n",
      "10 times of iteration\n",
      " --> Now x_min =  tensor([99.6735], requires_grad=True)\n",
      "=============================================\n",
      "11 times of iteration\n",
      " --> Now x_min =  tensor([99.8041], requires_grad=True)\n",
      "=============================================\n",
      "12 times of iteration\n",
      " --> Now x_min =  tensor([99.8825], requires_grad=True)\n",
      "=============================================\n",
      "13 times of iteration\n",
      " --> Now x_min =  tensor([99.9295], requires_grad=True)\n",
      "=============================================\n",
      "14 times of iteration\n",
      " --> Now x_min =  tensor([99.9577], requires_grad=True)\n",
      "=============================================\n",
      "15 times of iteration\n",
      " --> Now x_min =  tensor([99.9746], requires_grad=True)\n",
      "=============================================\n",
      "16 times of iteration\n",
      " --> Now x_min =  tensor([99.9848], requires_grad=True)\n",
      "=============================================\n",
      "17 times of iteration\n",
      " --> Now x_min =  tensor([99.9909], requires_grad=True)\n",
      "=============================================\n",
      "18 times of iteration\n",
      " --> Now x_min =  tensor([99.9945], requires_grad=True)\n",
      "=============================================\n",
      "19 times of iteration\n",
      " --> Now x_min =  tensor([99.9967], requires_grad=True)\n",
      "=============================================\n",
      "20 times of iteration\n",
      " --> Now x_min =  tensor([99.9980], requires_grad=True)\n",
      "=============================================\n",
      "21 times of iteration\n",
      " --> Now x_min =  tensor([99.9988], requires_grad=True)\n",
      "=============================================\n",
      "22 times of iteration\n",
      " --> Now x_min =  tensor([99.9993], requires_grad=True)\n",
      "=============================================\n",
      "23 times of iteration\n",
      " --> Now x_min =  tensor([99.9996], requires_grad=True)\n",
      "=============================================\n",
      "24 times of iteration\n",
      " --> Now x_min =  tensor([99.9997], requires_grad=True)\n",
      "=============================================\n",
      "25 times of iteration\n",
      " --> Now x_min =  tensor([99.9998], requires_grad=True)\n",
      "=============================================\n",
      "26 times of iteration\n",
      " --> Now x_min =  tensor([99.9999], requires_grad=True)\n",
      "=============================================\n",
      "27 times of iteration\n",
      " --> Now x_min =  tensor([99.9999], requires_grad=True)\n",
      "=============================================\n",
      "28 times of iteration\n",
      " --> Now x_min =  tensor([100.0000], requires_grad=True)\n",
      "=============================================\n",
      "29 times of iteration\n",
      " --> Now x_min =  tensor([100.0000], requires_grad=True)\n",
      "=============================================\n",
      "30 times of iteration\n",
      " --> Now x_min =  tensor([100.0000], requires_grad=True)\n",
      "=============================================\n",
      "31 times of iteration\n",
      " --> Now x_min =  tensor([100.0000], requires_grad=True)\n",
      "=============================================\n",
      "32 times of iteration\n",
      " --> Now x_min =  tensor([100.0000], requires_grad=True)\n",
      "=============================================\n",
      "33 times of iteration\n",
      " --> Now x_min =  tensor([100.0000], requires_grad=True)\n",
      "=============================================\n",
      "34 times of iteration\n",
      " --> Now x_min =  tensor([100.0000], requires_grad=True)\n",
      "=============================================\n",
      "35 times of iteration\n",
      " --> Now x_min =  tensor([100.0000], requires_grad=True)\n",
      "=============================================\n",
      "36 times of iteration\n",
      " --> Now x_min =  tensor([100.0000], requires_grad=True)\n",
      "=============================================\n",
      "37 times of iteration\n",
      " --> Now x_min =  tensor([100.0000], requires_grad=True)\n",
      "=============================================\n",
      "38 times of iteration\n",
      " --> Now x_min =  tensor([100.0000], requires_grad=True)\n",
      "=============================================\n",
      "39 times of iteration\n",
      " --> Now x_min =  tensor([100.0000], requires_grad=True)\n",
      "=============================================\n",
      "40 times of iteration\n",
      " --> Now x_min =  tensor([100.0000], requires_grad=True)\n",
      "=============================================\n",
      "41 times of iteration\n",
      " --> Now x_min =  tensor([100.0000], requires_grad=True)\n",
      "=============================================\n",
      "42 times of iteration\n",
      " --> Now x_min =  tensor([100.0000], requires_grad=True)\n",
      "=============================================\n",
      "43 times of iteration\n",
      " --> Now x_min =  tensor([100.0000], requires_grad=True)\n",
      "=============================================\n",
      "44 times of iteration\n",
      " --> Now x_min =  tensor([100.0000], requires_grad=True)\n",
      "=============================================\n",
      "45 times of iteration\n",
      " --> Now x_min =  tensor([100.0000], requires_grad=True)\n",
      "=============================================\n",
      "46 times of iteration\n",
      " --> Now x_min =  tensor([100.0000], requires_grad=True)\n",
      "=============================================\n",
      "47 times of iteration\n",
      " --> Now x_min =  tensor([100.0000], requires_grad=True)\n",
      "=============================================\n",
      "48 times of iteration\n",
      " --> Now x_min =  tensor([100.0000], requires_grad=True)\n",
      "=============================================\n",
      "49 times of iteration\n",
      " --> Now x_min =  tensor([100.0000], requires_grad=True)\n",
      "=============================================\n"
     ]
    }
   ],
   "source": [
    "n = 50\n",
    "x_min = Variable(torch.FloatTensor(10.0 * np.ones(1)), requires_grad = True)\n",
    "alpha =0.2\n",
    "for i in range(n):\n",
    "    f = (x_min - 100)**2\n",
    "    f.backward()\n",
    "    grad = x_min.grad.data\n",
    "    x_min.data = x_min.data - alpha * grad \n",
    "    print(i, 'times of iteration' )\n",
    "    print(' --> Now x_min = ', x_min)\n",
    "    print('=============================================')\n",
    "    \n",
    "    x_min.grad.data[:] = 0.0"
   ]
  },
  {
   "cell_type": "markdown",
   "id": "c8832eee-bec6-43ca-a020-14550b143192",
   "metadata": {},
   "source": [
    "## Tensors\n",
    "+ Tensors are multidimensional arrays, similar to numpy arrays and matrices. 0-dimension tensor is a scalar, a 1-dimension tensor is a vector\n",
    "+ They are the inputs and outputs of a model, easy for hardware accelerators, automatic differentiation.\n",
    "\n",
    "\n"
   ]
  },
  {
   "cell_type": "code",
   "execution_count": null,
   "id": "ad0236f6-937e-4fa3-8832-e494c48c4169",
   "metadata": {},
   "outputs": [],
   "source": [
    "# Move tensor to GPU (if available)\n",
    "tensor_on_gpu = x.to(device)\n",
    "tensor_on_gpu"
   ]
  },
  {
   "cell_type": "code",
   "execution_count": 46,
   "id": "1142538d-3f93-48aa-8468-0e137e1b8a91",
   "metadata": {},
   "outputs": [
    {
     "data": {
      "text/plain": [
       "tensor([[1, 2, 5],\n",
       "        [3, 4, 6]])"
      ]
     },
     "execution_count": 46,
     "metadata": {},
     "output_type": "execute_result"
    }
   ],
   "source": [
    "data = [[1, 2, 5],[3, 4, 6]]\n",
    "x_data = torch.tensor(data)\n",
    "x_np = torch.from_numpy(np.array(data))\n",
    "x_np"
   ]
  },
  {
   "cell_type": "code",
   "execution_count": 122,
   "id": "9eeb91b6-91de-4063-a13d-6dbacefff632",
   "metadata": {},
   "outputs": [
    {
     "data": {
      "text/plain": [
       "array([[1, 2, 5],\n",
       "       [3, 4, 6]])"
      ]
     },
     "execution_count": 122,
     "metadata": {},
     "output_type": "execute_result"
    }
   ],
   "source": [
    "# tensor to numpy\n",
    "x_tensor = x_np.numpy()\n",
    "x_tensor"
   ]
  },
  {
   "cell_type": "code",
   "execution_count": 41,
   "id": "dcafab76-cc53-45a7-956e-00a75423a262",
   "metadata": {},
   "outputs": [
    {
     "data": {
      "text/plain": [
       "torch.int64"
      ]
     },
     "execution_count": 41,
     "metadata": {},
     "output_type": "execute_result"
    }
   ],
   "source": [
    "x_data.dtype"
   ]
  },
  {
   "cell_type": "code",
   "execution_count": 77,
   "id": "b3fe5bc5-f7d8-48f2-b681-d3f701b6eb64",
   "metadata": {},
   "outputs": [
    {
     "data": {
      "text/plain": [
       "torch.float32"
      ]
     },
     "execution_count": 77,
     "metadata": {},
     "output_type": "execute_result"
    }
   ],
   "source": [
    "x_data.to(torch.float32)\n",
    "x_data.dtype"
   ]
  },
  {
   "cell_type": "code",
   "execution_count": 40,
   "id": "e887cd6d-3599-4c7e-906f-7e9d7ce3f41d",
   "metadata": {},
   "outputs": [
    {
     "data": {
      "text/plain": [
       "torch.Size([2, 3])"
      ]
     },
     "execution_count": 40,
     "metadata": {},
     "output_type": "execute_result"
    }
   ],
   "source": [
    "x_np.shape"
   ]
  },
  {
   "cell_type": "code",
   "execution_count": 116,
   "id": "c7accbf2-304e-4799-8389-83f78518f350",
   "metadata": {},
   "outputs": [
    {
     "data": {
      "text/plain": [
       "(tensor([[0.1053, 0.2695, 0.3588, 0.1994],\n",
       "         [0.5472, 0.0062, 0.9516, 0.0753],\n",
       "         [0.8860, 0.5832, 0.3376, 0.8090]]),\n",
       " torch.float32)"
      ]
     },
     "execution_count": 116,
     "metadata": {},
     "output_type": "execute_result"
    }
   ],
   "source": [
    "# Create a random tensor of size (3, 4)\n",
    "random_tensor = torch.rand(size=(3, 4))\n",
    "random_tensor, random_tensor.dtype"
   ]
  },
  {
   "cell_type": "code",
   "execution_count": 49,
   "id": "7970b768-a2ad-4dd6-9420-faab48579650",
   "metadata": {},
   "outputs": [
    {
     "data": {
      "text/plain": [
       "torch.Size([1, 3, 3])"
      ]
     },
     "execution_count": 49,
     "metadata": {},
     "output_type": "execute_result"
    }
   ],
   "source": [
    "TENSOR = torch.tensor([[[1, 2, 3],\n",
    "                        [3, 6, 9],\n",
    "                        [2, 4, 5]]])\n",
    "TENSOR.shape"
   ]
  },
  {
   "cell_type": "code",
   "execution_count": null,
   "id": "983de74b-fa93-4d39-8c26-42b1a971a596",
   "metadata": {},
   "outputs": [],
   "source": [
    "# dimension 0:[]\n",
    "# dimension 1:\n",
    "    # [[1, 2, 3],\n",
    "    # [3, 6, 9],\n",
    "    # [2, 4, 5]]\n",
    "# dimension 2:\n",
    "    # [1, 2, 3],\n",
    "    # [3, 6, 9],\n",
    "    # [2, 4, 5]"
   ]
  },
  {
   "cell_type": "markdown",
   "id": "348bc85b-5be1-439c-a25f-276c970fcf03",
   "metadata": {},
   "source": [
    "### Indexing"
   ]
  },
  {
   "cell_type": "code",
   "execution_count": 115,
   "id": "5256bde6-e16d-4249-966c-a6bc24084db3",
   "metadata": {},
   "outputs": [
    {
     "data": {
      "text/plain": [
       "tensor([[[1, 2, 3],\n",
       "         [3, 6, 9],\n",
       "         [2, 4, 5]]])"
      ]
     },
     "execution_count": 115,
     "metadata": {},
     "output_type": "execute_result"
    }
   ],
   "source": [
    "TENSOR"
   ]
  },
  {
   "cell_type": "code",
   "execution_count": 105,
   "id": "9efa2a4c-9e00-46ac-9e81-eacfd1d3bab8",
   "metadata": {},
   "outputs": [
    {
     "data": {
      "text/plain": [
       "tensor([[1, 2, 3],\n",
       "        [3, 6, 9],\n",
       "        [2, 4, 5]])"
      ]
     },
     "execution_count": 105,
     "metadata": {},
     "output_type": "execute_result"
    }
   ],
   "source": [
    "TENSOR[0]"
   ]
  },
  {
   "cell_type": "code",
   "execution_count": 107,
   "id": "836f3340-80d8-44f5-b21b-e8be82319ec4",
   "metadata": {},
   "outputs": [
    {
     "data": {
      "text/plain": [
       "tensor([3, 6, 9])"
      ]
     },
     "execution_count": 107,
     "metadata": {},
     "output_type": "execute_result"
    }
   ],
   "source": [
    "TENSOR[0][1]"
   ]
  },
  {
   "cell_type": "code",
   "execution_count": 108,
   "id": "6e108238-0b35-421b-b0ee-65ab89ebcae0",
   "metadata": {},
   "outputs": [
    {
     "data": {
      "text/plain": [
       "tensor(9)"
      ]
     },
     "execution_count": 108,
     "metadata": {},
     "output_type": "execute_result"
    }
   ],
   "source": [
    "TENSOR[0][1][2]"
   ]
  },
  {
   "cell_type": "code",
   "execution_count": 111,
   "id": "0cf53952-54b6-407b-a723-784a135f6432",
   "metadata": {},
   "outputs": [
    {
     "data": {
      "text/plain": [
       "tensor([[1, 2, 3]])"
      ]
     },
     "execution_count": 111,
     "metadata": {},
     "output_type": "execute_result"
    }
   ],
   "source": [
    "# Get all values of 0th dimension and the 0 index of 1st dimension\n",
    "TENSOR[:, 0]"
   ]
  },
  {
   "cell_type": "code",
   "execution_count": 118,
   "id": "cec8417b-7337-4463-abbd-e75a58ad381d",
   "metadata": {},
   "outputs": [
    {
     "data": {
      "text/plain": [
       "tensor([[1, 3, 2]])"
      ]
     },
     "execution_count": 118,
     "metadata": {},
     "output_type": "execute_result"
    }
   ],
   "source": [
    "# Get all values of 0th & 1st dimensions but only index 1 of 2nd dimension\n",
    "TENSOR[:,:,0]"
   ]
  },
  {
   "cell_type": "code",
   "execution_count": 119,
   "id": "631be546-9085-413d-9c79-2709d2ceffc2",
   "metadata": {},
   "outputs": [
    {
     "data": {
      "text/plain": [
       "tensor([6])"
      ]
     },
     "execution_count": 119,
     "metadata": {},
     "output_type": "execute_result"
    }
   ],
   "source": [
    "# Get all values of the 0 dimension but only the 1 index value of the 1st and 2nd dimension\n",
    "TENSOR[:,1,1]"
   ]
  },
  {
   "cell_type": "code",
   "execution_count": 120,
   "id": "615b4714-f8dc-4368-921a-6f06433dfae4",
   "metadata": {},
   "outputs": [
    {
     "data": {
      "text/plain": [
       "tensor([1, 2, 3])"
      ]
     },
     "execution_count": 120,
     "metadata": {},
     "output_type": "execute_result"
    }
   ],
   "source": [
    "# Get index 0 of 0th and 1st dimension and all values of 2nd dimension \n",
    "TENSOR[0, 0, :] # same as x[0][0]"
   ]
  },
  {
   "cell_type": "code",
   "execution_count": null,
   "id": "e6340313-e81f-4b91-a064-584144d9e2fa",
   "metadata": {},
   "outputs": [],
   "source": []
  },
  {
   "cell_type": "code",
   "execution_count": 43,
   "id": "aae5c352-1d23-4c0e-ae11-ae253cdaafda",
   "metadata": {},
   "outputs": [
    {
     "data": {
      "text/plain": [
       "tensor([[1, 2, 5, 1, 2, 5, 1, 2, 5],\n",
       "        [3, 4, 6, 3, 4, 6, 3, 4, 6]])"
      ]
     },
     "execution_count": 43,
     "metadata": {},
     "output_type": "execute_result"
    }
   ],
   "source": [
    "t1 = torch.cat([x_data, x_data, x_data], dim=1)\n",
    "t1"
   ]
  },
  {
   "cell_type": "code",
   "execution_count": 45,
   "id": "4cb70570-d45b-44fb-9300-53badd1702d0",
   "metadata": {},
   "outputs": [
    {
     "data": {
      "text/plain": [
       "tensor([[1, 2, 5],\n",
       "        [3, 4, 6],\n",
       "        [1, 2, 5],\n",
       "        [3, 4, 6],\n",
       "        [1, 2, 5],\n",
       "        [3, 4, 6]])"
      ]
     },
     "execution_count": 45,
     "metadata": {},
     "output_type": "execute_result"
    }
   ],
   "source": [
    "t0 = torch.cat([x_data, x_data, x_data], dim=0)\n",
    "t0"
   ]
  },
  {
   "cell_type": "code",
   "execution_count": 50,
   "id": "9721029d-d95b-460d-b282-3e13e1a26278",
   "metadata": {},
   "outputs": [
    {
     "data": {
      "text/plain": [
       "(tensor([[0., 0., 0., 0.],\n",
       "         [0., 0., 0., 0.],\n",
       "         [0., 0., 0., 0.]]),\n",
       " torch.float32)"
      ]
     },
     "execution_count": 50,
     "metadata": {},
     "output_type": "execute_result"
    }
   ],
   "source": [
    "# Create a tensor of all zeros\n",
    "zeros = torch.zeros(size=(3, 4))\n",
    "zeros, zeros.dtype"
   ]
  },
  {
   "cell_type": "code",
   "execution_count": null,
   "id": "8aaa107a-6bb5-42be-8020-52af7f155644",
   "metadata": {},
   "outputs": [],
   "source": []
  },
  {
   "cell_type": "markdown",
   "id": "4b6d2bd9-9919-4a4d-8d80-4708ef1606c8",
   "metadata": {},
   "source": [
    "### Matrix operation"
   ]
  },
  {
   "cell_type": "code",
   "execution_count": 53,
   "id": "1713be39-bb49-43e8-80cf-8938d5b4b7b5",
   "metadata": {},
   "outputs": [
    {
     "data": {
      "text/plain": [
       "tensor([[[ 1,  4,  9],\n",
       "         [ 9, 36, 81],\n",
       "         [ 4, 16, 25]]])"
      ]
     },
     "execution_count": 53,
     "metadata": {},
     "output_type": "execute_result"
    }
   ],
   "source": [
    "# Element-wise matrix multiplication\n",
    "TENSOR * TENSOR"
   ]
  },
  {
   "cell_type": "code",
   "execution_count": 54,
   "id": "8de8d4ba-7f11-49e6-9ce5-e1487370ee51",
   "metadata": {},
   "outputs": [
    {
     "data": {
      "text/plain": [
       "tensor([[[ 13,  26,  36],\n",
       "         [ 39,  78, 108],\n",
       "         [ 24,  48,  67]]])"
      ]
     },
     "execution_count": 54,
     "metadata": {},
     "output_type": "execute_result"
    }
   ],
   "source": [
    "# Matrix multiplication\n",
    "torch.matmul(TENSOR, TENSOR)"
   ]
  },
  {
   "cell_type": "code",
   "execution_count": 56,
   "id": "e2b78b81-e93a-45bb-a706-015ed0c9fc09",
   "metadata": {},
   "outputs": [
    {
     "data": {
      "text/plain": [
       "tensor([[[ 13,  26,  36],\n",
       "         [ 39,  78, 108],\n",
       "         [ 24,  48,  67]]])"
      ]
     },
     "execution_count": 56,
     "metadata": {},
     "output_type": "execute_result"
    }
   ],
   "source": [
    "TENSOR @ TENSOR"
   ]
  },
  {
   "cell_type": "code",
   "execution_count": 61,
   "id": "64efa9ed-0f87-4af4-bf8d-bae71212f43b",
   "metadata": {},
   "outputs": [
    {
     "data": {
      "text/plain": [
       "tensor([[30, 41],\n",
       "        [41, 61]])"
      ]
     },
     "execution_count": 61,
     "metadata": {},
     "output_type": "execute_result"
    }
   ],
   "source": [
    "torch.mm(x_np, x_np.T)"
   ]
  },
  {
   "cell_type": "markdown",
   "id": "0224ed11-cc1c-4155-9742-2cde7c89ea1b",
   "metadata": {},
   "source": [
    "### Linear layer"
   ]
  },
  {
   "cell_type": "markdown",
   "id": "9ce5a544-6ac5-441e-9291-38e683f22646",
   "metadata": {},
   "source": [
    "The torch. nn. Linear() module are known as a feed-forward layer or fully connected layer:\n",
    "\n",
    "$$\n",
    "y=x \\cdot W^T+b\n",
    "$$\n",
    "\n",
    "\n",
    "Where:\n",
    "- x is the input to the layer.\n",
    "- A is the weights matrix.\n",
    "- b is the bias term used to slightly offset the weights and inputs.\n",
    "- $y$ is the output."
   ]
  },
  {
   "cell_type": "code",
   "execution_count": 82,
   "id": "88524a6e-1b35-41ea-93db-39df56a805f4",
   "metadata": {},
   "outputs": [
    {
     "name": "stdout",
     "output_type": "stream",
     "text": [
      "Input shape: torch.Size([2, 3])\n",
      "\n",
      "Output:\n",
      "tensor([[0.4540, 1.0070, 2.6758, 1.0527, 1.7404, 1.6183],\n",
      "        [2.1600, 1.9313, 3.3008, 1.3173, 3.0283, 2.4308]],\n",
      "       grad_fn=<AddmmBackward0>)\n",
      "\n",
      "Output shape: torch.Size([2, 6])\n"
     ]
    }
   ],
   "source": [
    "# starts with a random weights matrix\n",
    "torch.manual_seed(42)\n",
    "# in_features matches inner dimension of input \n",
    "linear = torch.nn.Linear(in_features=3, \n",
    "                         out_features=6)\n",
    "\n",
    "output = linear(x_np.to(torch.float32))\n",
    "print(f\"Input shape: {x_np.shape}\\n\")\n",
    "print(f\"Output:\\n{output}\\n\\nOutput shape: {output.shape}\")"
   ]
  },
  {
   "cell_type": "markdown",
   "id": "40cd5dce-8ade-4da4-b25a-d20e149bac97",
   "metadata": {},
   "source": [
    "### statistics\n",
    "keep tensor with the float datatype"
   ]
  },
  {
   "cell_type": "code",
   "execution_count": 88,
   "id": "44879999-f4ce-4757-9ba9-6cda065f5403",
   "metadata": {},
   "outputs": [
    {
     "data": {
      "text/plain": [
       "tensor([ 0., 10., 20., 30., 40., 50., 60., 70., 80., 90.])"
      ]
     },
     "execution_count": 88,
     "metadata": {},
     "output_type": "execute_result"
    }
   ],
   "source": [
    "x = torch.arange(0., 100., 10.)\n",
    "x"
   ]
  },
  {
   "cell_type": "code",
   "execution_count": 89,
   "id": "b8b8f6a4-d276-48d7-8948-fc4f9363d97b",
   "metadata": {},
   "outputs": [
    {
     "name": "stdout",
     "output_type": "stream",
     "text": [
      "Minimum: 0.0\n",
      "Maximum: 90.0\n",
      "Mean: 45.0\n",
      "Sum: 450.0\n"
     ]
    }
   ],
   "source": [
    "print(f\"Minimum: {x.min()}\")\n",
    "print(f\"Maximum: {x.max()}\")\n",
    "print(f\"Mean: {x.type(torch.float32).mean()}\") \n",
    "print(f\"Sum: {x.sum()}\")"
   ]
  },
  {
   "cell_type": "code",
   "execution_count": 90,
   "id": "530635e4-0c97-4fed-88b4-bd1994adbc75",
   "metadata": {},
   "outputs": [
    {
     "name": "stdout",
     "output_type": "stream",
     "text": [
      "Index where max value occurs: 9\n",
      "Index where min value occurs: 0\n"
     ]
    }
   ],
   "source": [
    "print(f\"Index where max value occurs: {x.argmax()}\")\n",
    "print(f\"Index where min value occurs: {x.argmin()}\")"
   ]
  },
  {
   "cell_type": "code",
   "execution_count": 93,
   "id": "fac3a1f4-298f-46f7-afad-2b6402bcbcd2",
   "metadata": {},
   "outputs": [],
   "source": [
    "# Create a float16 tensor\n",
    "x_float16 = x.type(torch.float16)"
   ]
  },
  {
   "cell_type": "markdown",
   "id": "1ef33179-849a-49b1-9a89-bc19f1ca5aee",
   "metadata": {},
   "source": [
    "### reshape dimension"
   ]
  },
  {
   "cell_type": "code",
   "execution_count": 97,
   "id": "72acef73-78ce-460d-84ce-7aed5dbae83a",
   "metadata": {},
   "outputs": [
    {
     "data": {
      "text/plain": [
       "(tensor([ 0., 10., 20., 30., 40., 50., 60., 70., 80., 90.]), torch.Size([10]))"
      ]
     },
     "execution_count": 97,
     "metadata": {},
     "output_type": "execute_result"
    }
   ],
   "source": [
    "x, x.shape"
   ]
  },
  {
   "cell_type": "code",
   "execution_count": 96,
   "id": "58b4fffa-cd87-41a3-8cea-9de7fdc8afdd",
   "metadata": {},
   "outputs": [
    {
     "data": {
      "text/plain": [
       "(tensor([[ 0., 10., 20., 30., 40., 50., 60., 70., 80., 90.]]),\n",
       " torch.Size([1, 10]))"
      ]
     },
     "execution_count": 96,
     "metadata": {},
     "output_type": "execute_result"
    }
   ],
   "source": [
    "# add an dimension:\n",
    "x_reshaped = x.reshape(1, 10)\n",
    "x_reshaped, x_reshaped.shape"
   ]
  },
  {
   "cell_type": "code",
   "execution_count": 100,
   "id": "ddf38daa-60a0-4b8f-bb26-29aa13ed6a06",
   "metadata": {},
   "outputs": [
    {
     "data": {
      "text/plain": [
       "(tensor([[ 0., 10., 20., 30., 40., 50., 60., 70., 80., 90.]]),\n",
       " torch.Size([1, 10]))"
      ]
     },
     "execution_count": 100,
     "metadata": {},
     "output_type": "execute_result"
    }
   ],
   "source": [
    "z = x.view(1, 10)\n",
    "z, z.shape"
   ]
  },
  {
   "cell_type": "code",
   "execution_count": 101,
   "id": "65915ac1-a324-4445-8509-5f4f47e6cbc6",
   "metadata": {},
   "outputs": [
    {
     "data": {
      "text/plain": [
       "(tensor([[ 5., 10., 20., 30., 40., 50., 60., 70., 80., 90.]]),\n",
       " tensor([ 5., 10., 20., 30., 40., 50., 60., 70., 80., 90.]))"
      ]
     },
     "execution_count": 101,
     "metadata": {},
     "output_type": "execute_result"
    }
   ],
   "source": [
    "# Changing z changes x\n",
    "z[:, 0] = 5\n",
    "z, x"
   ]
  },
  {
   "cell_type": "code",
   "execution_count": 102,
   "id": "0c86fa65-d1e4-472f-9f4c-5a06039c6753",
   "metadata": {},
   "outputs": [
    {
     "data": {
      "text/plain": [
       "tensor([[ 5., 10., 20., 30., 40., 50., 60., 70., 80., 90.],\n",
       "        [ 5., 10., 20., 30., 40., 50., 60., 70., 80., 90.],\n",
       "        [ 5., 10., 20., 30., 40., 50., 60., 70., 80., 90.],\n",
       "        [ 5., 10., 20., 30., 40., 50., 60., 70., 80., 90.]])"
      ]
     },
     "execution_count": 102,
     "metadata": {},
     "output_type": "execute_result"
    }
   ],
   "source": [
    "x_stacked = torch.stack([x, x, x, x], dim=0) # try changing dim to dim=1 and see what happens\n",
    "x_stacked"
   ]
  },
  {
   "cell_type": "code",
   "execution_count": 103,
   "id": "873e2c7d-1977-4a9b-af16-80153e854fb5",
   "metadata": {},
   "outputs": [
    {
     "name": "stdout",
     "output_type": "stream",
     "text": [
      "\n",
      "New tensor: tensor([ 5., 10., 20., 30., 40., 50., 60., 70., 80., 90.])\n",
      "New shape: torch.Size([10])\n"
     ]
    }
   ],
   "source": [
    "# Remove extra dimension from x_reshaped\n",
    "x_squeezed = x_reshaped.squeeze()\n",
    "print(f\"\\nNew tensor: {x_squeezed}\")\n",
    "print(f\"New shape: {x_squeezed.shape}\")"
   ]
  },
  {
   "cell_type": "code",
   "execution_count": 123,
   "id": "8be3d665-679f-4ab5-bd2c-b8c086ac611a",
   "metadata": {},
   "outputs": [
    {
     "data": {
      "text/plain": [
       "(tensor([[[1, 2, 3],\n",
       "          [4, 5, 6],\n",
       "          [7, 8, 9]]]),\n",
       " torch.Size([1, 3, 3]))"
      ]
     },
     "execution_count": 123,
     "metadata": {},
     "output_type": "execute_result"
    }
   ],
   "source": [
    "x = torch.arange(1, 10).reshape(1, 3, 3)\n",
    "x, x.shape"
   ]
  },
  {
   "cell_type": "markdown",
   "id": "46d89cc1-8550-4dd5-a8bd-5046da003a38",
   "metadata": {},
   "source": [
    "### GPU deploy"
   ]
  },
  {
   "cell_type": "code",
   "execution_count": 135,
   "id": "f25a5c01-4db2-4f2f-bc1b-b4dfec3dc2fc",
   "metadata": {},
   "outputs": [
    {
     "data": {
      "text/plain": [
       "tensor([[[1, 2, 3],\n",
       "         [4, 5, 6],\n",
       "         [7, 8, 9]]])"
      ]
     },
     "execution_count": 135,
     "metadata": {},
     "output_type": "execute_result"
    }
   ],
   "source": [
    "# Move tensor to GPU (if available)\n",
    "tensor_on_gpu = x.to(device)\n",
    "tensor_on_gpu"
   ]
  },
  {
   "cell_type": "code",
   "execution_count": 136,
   "id": "fb238bde-b61d-4675-ac5b-71b77112936f",
   "metadata": {},
   "outputs": [
    {
     "data": {
      "text/plain": [
       "array([[[1, 2, 3],\n",
       "        [4, 5, 6],\n",
       "        [7, 8, 9]]])"
      ]
     },
     "execution_count": 136,
     "metadata": {},
     "output_type": "execute_result"
    }
   ],
   "source": [
    "# Instead, copy the tensor back to cpu\n",
    "tensor_back_on_cpu = tensor_on_gpu.cpu().numpy()\n",
    "tensor_back_on_cpu"
   ]
  },
  {
   "cell_type": "markdown",
   "id": "cb31f8a3-73f6-4494-ad5f-4ef8d130dee4",
   "metadata": {},
   "source": [
    "## Neural Network Classification: Circles\n",
    "reference: https://github.com/mrdbourke/pytorch-deep-learning/blob/main/02_pytorch_classification.ipynb"
   ]
  },
  {
   "cell_type": "code",
   "execution_count": 7,
   "id": "6b33dad0-f6ad-4725-8b39-22cdadce5416",
   "metadata": {},
   "outputs": [
    {
     "data": {
      "text/html": [
       "<div>\n",
       "<style scoped>\n",
       "    .dataframe tbody tr th:only-of-type {\n",
       "        vertical-align: middle;\n",
       "    }\n",
       "\n",
       "    .dataframe tbody tr th {\n",
       "        vertical-align: top;\n",
       "    }\n",
       "\n",
       "    .dataframe thead th {\n",
       "        text-align: right;\n",
       "    }\n",
       "</style>\n",
       "<table border=\"1\" class=\"dataframe\">\n",
       "  <thead>\n",
       "    <tr style=\"text-align: right;\">\n",
       "      <th></th>\n",
       "      <th>X1</th>\n",
       "      <th>X2</th>\n",
       "      <th>label</th>\n",
       "    </tr>\n",
       "  </thead>\n",
       "  <tbody>\n",
       "    <tr>\n",
       "      <th>0</th>\n",
       "      <td>0.754246</td>\n",
       "      <td>0.231481</td>\n",
       "      <td>1</td>\n",
       "    </tr>\n",
       "    <tr>\n",
       "      <th>1</th>\n",
       "      <td>-0.756159</td>\n",
       "      <td>0.153259</td>\n",
       "      <td>1</td>\n",
       "    </tr>\n",
       "    <tr>\n",
       "      <th>2</th>\n",
       "      <td>-0.815392</td>\n",
       "      <td>0.173282</td>\n",
       "      <td>1</td>\n",
       "    </tr>\n",
       "    <tr>\n",
       "      <th>3</th>\n",
       "      <td>-0.393731</td>\n",
       "      <td>0.692883</td>\n",
       "      <td>1</td>\n",
       "    </tr>\n",
       "    <tr>\n",
       "      <th>4</th>\n",
       "      <td>0.442208</td>\n",
       "      <td>-0.896723</td>\n",
       "      <td>0</td>\n",
       "    </tr>\n",
       "    <tr>\n",
       "      <th>5</th>\n",
       "      <td>-0.479646</td>\n",
       "      <td>0.676435</td>\n",
       "      <td>1</td>\n",
       "    </tr>\n",
       "    <tr>\n",
       "      <th>6</th>\n",
       "      <td>-0.013648</td>\n",
       "      <td>0.803349</td>\n",
       "      <td>1</td>\n",
       "    </tr>\n",
       "    <tr>\n",
       "      <th>7</th>\n",
       "      <td>0.771513</td>\n",
       "      <td>0.147760</td>\n",
       "      <td>1</td>\n",
       "    </tr>\n",
       "    <tr>\n",
       "      <th>8</th>\n",
       "      <td>-0.169322</td>\n",
       "      <td>-0.793456</td>\n",
       "      <td>1</td>\n",
       "    </tr>\n",
       "    <tr>\n",
       "      <th>9</th>\n",
       "      <td>-0.121486</td>\n",
       "      <td>1.021509</td>\n",
       "      <td>0</td>\n",
       "    </tr>\n",
       "  </tbody>\n",
       "</table>\n",
       "</div>"
      ],
      "text/plain": [
       "         X1        X2  label\n",
       "0  0.754246  0.231481      1\n",
       "1 -0.756159  0.153259      1\n",
       "2 -0.815392  0.173282      1\n",
       "3 -0.393731  0.692883      1\n",
       "4  0.442208 -0.896723      0\n",
       "5 -0.479646  0.676435      1\n",
       "6 -0.013648  0.803349      1\n",
       "7  0.771513  0.147760      1\n",
       "8 -0.169322 -0.793456      1\n",
       "9 -0.121486  1.021509      0"
      ]
     },
     "execution_count": 7,
     "metadata": {},
     "output_type": "execute_result"
    }
   ],
   "source": [
    "from sklearn.datasets import make_circles\n",
    "\n",
    "n_samples = 1000\n",
    "# Create data\n",
    "X, y = make_circles(n_samples,\n",
    "                    noise=0.03,\n",
    "                    random_state=42)\n",
    "circles = pd.DataFrame({\"X1\": X[:, 0],\n",
    "    \"X2\": X[:, 1],\n",
    "    \"label\": y\n",
    "})\n",
    "circles.head(10)"
   ]
  },
  {
   "cell_type": "code",
   "execution_count": 8,
   "id": "cdbf0f25-1369-4e27-a6b1-1fbb34a443d6",
   "metadata": {},
   "outputs": [
    {
     "data": {
      "text/plain": [
       "label\n",
       "1    500\n",
       "0    500\n",
       "Name: count, dtype: int64"
      ]
     },
     "execution_count": 8,
     "metadata": {},
     "output_type": "execute_result"
    }
   ],
   "source": [
    "circles.label.value_counts()"
   ]
  },
  {
   "cell_type": "code",
   "execution_count": 9,
   "id": "9d32b392-e1d4-44fb-8587-80b608c2120d",
   "metadata": {},
   "outputs": [
    {
     "data": {
      "image/png": "[encoded data removed]",
      "text/plain": [
       "<Figure size 432x288 with 1 Axes>"
      ]
     },
     "metadata": {
      "needs_background": "light"
     },
     "output_type": "display_data"
    }
   ],
   "source": [
    "plt.scatter(x=X[:, 0], \n",
    "            y=X[:, 1], \n",
    "            c=y, \n",
    "            cmap=plt.cm.RdYlBu);"
   ]
  },
  {
   "cell_type": "code",
   "execution_count": 10,
   "id": "4ed7338d-e94f-430d-a28f-8580b01166cb",
   "metadata": {},
   "outputs": [
    {
     "data": {
      "text/plain": [
       "(tensor([[ 0.7542,  0.2315],\n",
       "         [-0.7562,  0.1533],\n",
       "         [-0.8154,  0.1733],\n",
       "         [-0.3937,  0.6929],\n",
       "         [ 0.4422, -0.8967]]),\n",
       " tensor([1., 1., 1., 1., 0.]))"
      ]
     },
     "execution_count": 10,
     "metadata": {},
     "output_type": "execute_result"
    }
   ],
   "source": [
    "# convert numpy array to tensors\n",
    "X = torch.from_numpy(X).type(torch.float)\n",
    "y = torch.from_numpy(y).type(torch.float)\n",
    "X[:5], y[:5]"
   ]
  },
  {
   "cell_type": "markdown",
   "id": "35e4e334-4294-494d-b4e9-279394cd96c6",
   "metadata": {},
   "source": [
    "### Prepare for training"
   ]
  },
  {
   "cell_type": "code",
   "execution_count": 11,
   "id": "f25b9c5f-f978-4c6c-b4b6-e0af198af4cb",
   "metadata": {},
   "outputs": [
    {
     "data": {
      "text/plain": [
       "(800, 200, 800, 200)"
      ]
     },
     "execution_count": 11,
     "metadata": {},
     "output_type": "execute_result"
    }
   ],
   "source": [
    "from sklearn.model_selection import train_test_split\n",
    "\n",
    "X_train, X_test, y_train, y_test = train_test_split(X, \n",
    "                                                    y, \n",
    "                                                    test_size=0.2, # 20% test, 80% train\n",
    "                                                    random_state=42) # make the random split reproducible\n",
    "\n",
    "len(X_train), len(X_test), len(y_train), len(y_test)"
   ]
  },
  {
   "cell_type": "markdown",
   "id": "8803e7d6-094b-4266-bf29-8be0120e5baf",
   "metadata": {},
   "source": [
    "Almost all PyTorch models are subclasses of nn.Module, therefore we can directly define a subclass.\n",
    "+ Creates 2 nn.Linear layers in the constructor capable of handling the input and output shapes of X and y.\n",
    "+ Defines a forward() method containing the forward pass computation of the model."
   ]
  },
  {
   "cell_type": "markdown",
   "id": "56ff38ec-2192-45a0-af22-53faa3f86ab1",
   "metadata": {},
   "source": [
    "https://playground.tensorflow.org/"
   ]
  },
  {
   "cell_type": "code",
   "execution_count": 12,
   "id": "730fcaf1-f600-43b0-b8df-a1f153ea6ae7",
   "metadata": {},
   "outputs": [
    {
     "data": {
      "text/plain": [
       "CircleModelV(\n",
       "  (layer_1): Linear(in_features=2, out_features=10, bias=True)\n",
       "  (layer_2): Linear(in_features=10, out_features=10, bias=True)\n",
       "  (layer_3): Linear(in_features=10, out_features=1, bias=True)\n",
       "  (relu): ReLU()\n",
       ")"
      ]
     },
     "execution_count": 12,
     "metadata": {},
     "output_type": "execute_result"
    }
   ],
   "source": [
    "from torch import nn\n",
    "class CircleModelV(nn.Module):\n",
    "    def __init__(self):\n",
    "        super().__init__()\n",
    "        \n",
    "        self.layer_1 = nn.Linear(in_features=2, out_features=10)  # takes in 2 features (X), produces 10 features\n",
    "        self.layer_2 = nn.Linear(in_features=10, out_features=10) # takes in 10 features (X), produces 10 features\n",
    "        self.layer_3 = nn.Linear(in_features=10, out_features=1)  # takes in 2 features (X), produces 1 features\n",
    "        self.relu = nn.ReLU() # <- add in ReLU activation function\n",
    "        # self.sigmoid = nn.Sigmoid()\n",
    "        \n",
    "    def forward(self, x):\n",
    "        # Intersperse the ReLU activation function between layers\n",
    "        return self.layer_3(self.relu(self.layer_2(self.relu(self.layer_1(x)))))\n",
    "\n",
    "model_0 = CircleModelV().to(device)\n",
    "model_0"
   ]
  },
  {
   "cell_type": "code",
   "execution_count": 13,
   "id": "50071c2f-3a15-45c1-aa80-828dc864b8ba",
   "metadata": {},
   "outputs": [
    {
     "data": {
      "text/plain": [
       "Sequential(\n",
       "  (0): Linear(in_features=2, out_features=10, bias=True)\n",
       "  (1): Linear(in_features=10, out_features=10, bias=True)\n",
       "  (2): Linear(in_features=10, out_features=1, bias=True)\n",
       ")"
      ]
     },
     "execution_count": 13,
     "metadata": {},
     "output_type": "execute_result"
    }
   ],
   "source": [
    "# The sequential order features without non-linearity\n",
    "model_1 = nn.Sequential(\n",
    "    nn.Linear(in_features=2, out_features=10),\n",
    "    nn.Linear(in_features=10, out_features=10),\n",
    "    nn.Linear(in_features=10, out_features=1)\n",
    ").to(device)\n",
    "\n",
    "model_1"
   ]
  },
  {
   "cell_type": "code",
   "execution_count": 14,
   "id": "3e489803-cda7-49e0-b4fd-01a95408aa65",
   "metadata": {},
   "outputs": [
    {
     "name": "stdout",
     "output_type": "stream",
     "text": [
      "Length of predictions: 200, Shape: torch.Size([200, 1])\n",
      "Length of test samples: 200, Shape: torch.Size([200])\n",
      "\n",
      "First 10 predictions:\n",
      "tensor([[-0.0359],\n",
      "        [-0.1052],\n",
      "        [ 0.0172],\n",
      "        [-0.0773],\n",
      "        [ 0.0281],\n",
      "        [-0.0077],\n",
      "        [-0.1326],\n",
      "        [-0.1144],\n",
      "        [ 0.0162],\n",
      "        [-0.1101]], device='mps:0', grad_fn=<SliceBackward0>)\n",
      "\n",
      "First 10 test labels:\n",
      "tensor([1., 0., 1., 0., 1., 1., 0., 0., 1., 0.])\n"
     ]
    }
   ],
   "source": [
    "untrained_preds = model_0(X_test.to(device))\n",
    "print(f\"Length of predictions: {len(untrained_preds)}, Shape: {untrained_preds.shape}\")\n",
    "print(f\"Length of test samples: {len(y_test)}, Shape: {y_test.shape}\")\n",
    "print(f\"\\nFirst 10 predictions:\\n{untrained_preds[:10]}\")\n",
    "print(f\"\\nFirst 10 test labels:\\n{y_test[:10]}\")"
   ]
  },
  {
   "cell_type": "markdown",
   "id": "49c8abf3-1b4e-40ee-872e-d9e598494702",
   "metadata": {},
   "source": [
    "#### Loss function\n",
    "a criterion that measures the Binary Cross Entropy between the target and the input probabilities\n",
    "$$\n",
    "l_n=-w_n\\left[y_n \\cdot \\log x_n+\\left(1-y_n\\right) \\cdot \\log \\left(1-x_n\\right)\\right]\n",
    "$$"
   ]
  },
  {
   "cell_type": "code",
   "execution_count": 15,
   "id": "0b15a957-7d0a-4286-8606-d4753dbb880f",
   "metadata": {},
   "outputs": [],
   "source": [
    "loss_fn = nn.BCEWithLogitsLoss()"
   ]
  },
  {
   "cell_type": "markdown",
   "id": "76092308-0c18-4ee3-8621-97e5c3225d33",
   "metadata": {},
   "source": [
    "#### SGD optimizer\n",
    "stochastic gradient descent : https://pytorch.org/docs/stable/generated/torch.optim.SGD.html"
   ]
  },
  {
   "cell_type": "code",
   "execution_count": 16,
   "id": "af295ca6-9586-4f9e-a05d-da8d9daea628",
   "metadata": {},
   "outputs": [],
   "source": [
    "optimizer = torch.optim.SGD(params=model_0.parameters(), \n",
    "                            lr=0.1)"
   ]
  },
  {
   "cell_type": "markdown",
   "id": "37c5e689-ef01-4b95-8023-81901775c96d",
   "metadata": {},
   "source": [
    "#### classification metrics"
   ]
  },
  {
   "cell_type": "code",
   "execution_count": 17,
   "id": "1d79875d-1929-455b-a7d6-9346dd5df371",
   "metadata": {},
   "outputs": [],
   "source": [
    "# classification metric\n",
    "def accuracy_fn(y_true, y_pred):\n",
    "    correct = torch.eq(y_true, y_pred).sum().item() # torch.eq() calculates where two tensors are equal\n",
    "    acc = (correct / len(y_pred)) * 100 \n",
    "    return acc"
   ]
  },
  {
   "cell_type": "markdown",
   "id": "89d1ae45-d158-4398-b8b9-2f08b1684ed0",
   "metadata": {},
   "source": [
    "### Train model\n",
    "+ Forward pass - The model goes through all of the training data once, performing its forward() function calculations (model(x_train)).\n",
    "+ Calculate the loss - The model's outputs (predictions) are compared to the ground truth and evaluated to see how wrong they are (loss = loss_fn(y_pred, y_train).\n",
    "+ Zero gradients - The optimizers gradients are set to zero (they are accumulated by default) so they can be recalculated for the specific training step (optimizer.zero_grad()).\n",
    "+ Perform backpropagation on the loss - Computes the gradient of the loss with respect for every model parameter to be updated (each parameter with requires_grad=True). This is known as backpropagation, hence \"backwards\" (loss.backward()).\n",
    "+ Step the optimizer (gradient descent) - Update the parameters with requires_grad=True with respect to the loss gradients in order to improve them (optimizer.step())."
   ]
  },
  {
   "cell_type": "code",
   "execution_count": 18,
   "id": "d3ba1560-82f8-4932-a822-01decc67fdb6",
   "metadata": {},
   "outputs": [
    {
     "name": "stdout",
     "output_type": "stream",
     "text": [
      "Epoch: 0 | Loss: 0.69380, Accuracy: 47.75% | Test Loss: 0.69188, Test Accuracy: 52.00%\n",
      "Epoch: 100 | Loss: 0.69056, Accuracy: 50.88% | Test Loss: 0.68986, Test Accuracy: 53.00%\n",
      "Epoch: 200 | Loss: 0.68822, Accuracy: 56.00% | Test Loss: 0.68882, Test Accuracy: 54.00%\n",
      "Epoch: 300 | Loss: 0.68539, Accuracy: 54.62% | Test Loss: 0.68756, Test Accuracy: 52.50%\n",
      "Epoch: 400 | Loss: 0.68176, Accuracy: 56.62% | Test Loss: 0.68594, Test Accuracy: 52.00%\n",
      "Epoch: 500 | Loss: 0.67702, Accuracy: 59.13% | Test Loss: 0.68356, Test Accuracy: 57.00%\n",
      "Epoch: 600 | Loss: 0.67057, Accuracy: 61.25% | Test Loss: 0.67997, Test Accuracy: 56.50%\n",
      "Epoch: 700 | Loss: 0.66096, Accuracy: 64.50% | Test Loss: 0.67396, Test Accuracy: 56.50%\n",
      "Epoch: 800 | Loss: 0.64390, Accuracy: 70.62% | Test Loss: 0.66023, Test Accuracy: 63.50%\n",
      "Epoch: 900 | Loss: 0.60892, Accuracy: 80.00% | Test Loss: 0.62920, Test Accuracy: 72.00%\n"
     ]
    }
   ],
   "source": [
    "# Fit the nonlinear model\n",
    "torch.manual_seed(42)\n",
    "epochs = 1000\n",
    "\n",
    "# Put all data on target device\n",
    "X_train, y_train = X_train.to(device), y_train.to(device)\n",
    "X_test, y_test = X_test.to(device), y_test.to(device)\n",
    "\n",
    "for epoch in range(epochs):\n",
    "    # Forward pass\n",
    "    y_logits = model_0(X_train).squeeze()\n",
    "    y_pred = torch.round(torch.sigmoid(y_logits)) # logits -> prediction probabilities -> prediction labels\n",
    "    \n",
    "    # Calculate loss and accuracy\n",
    "    loss = loss_fn(y_logits, y_train) \n",
    "    acc = accuracy_fn(y_true=y_train, \n",
    "                      y_pred=y_pred)\n",
    "    \n",
    "    # Optimizer zero grad\n",
    "    optimizer.zero_grad()\n",
    "\n",
    "    # Loss backward\n",
    "    loss.backward()\n",
    "\n",
    "    # Optimizer step\n",
    "    optimizer.step()\n",
    "\n",
    "    ### Testing\n",
    "    model_0.eval()\n",
    "    with torch.inference_mode():\n",
    "        # Forward pass\n",
    "        test_logits = model_0(X_test).squeeze()\n",
    "        test_pred = torch.round(torch.sigmoid(test_logits)) # logits -> prediction probabilities -> prediction labels\n",
    "        # Calculate loss and accuracy\n",
    "        test_loss = loss_fn(test_logits, y_test)\n",
    "        test_acc = accuracy_fn(y_true=y_test,\n",
    "                             y_pred=test_pred)\n",
    "\n",
    "    # Print out what's happening\n",
    "    if epoch % 100 == 0:\n",
    "        print(f\"Epoch: {epoch} | Loss: {loss:.5f}, Accuracy: {acc:.2f}% | Test Loss: {test_loss:.5f}, Test Accuracy: {test_acc:.2f}%\")"
   ]
  },
  {
   "cell_type": "code",
   "execution_count": 19,
   "id": "c956731f-22f9-4a1d-80d6-1672902b9a01",
   "metadata": {},
   "outputs": [
    {
     "data": {
      "text/plain": [
       "(tensor([1., 0., 1., 0., 1., 0., 0., 0., 1., 0.], device='mps:0'),\n",
       " tensor([1., 1., 1., 1., 0., 1., 1., 1., 1., 0.]))"
      ]
     },
     "execution_count": 19,
     "metadata": {},
     "output_type": "execute_result"
    }
   ],
   "source": [
    "model_0.eval()\n",
    "with torch.inference_mode():\n",
    "    y_preds = torch.round(torch.sigmoid(model_0(X_test))).squeeze()\n",
    "y_preds[:10], y[:10]"
   ]
  },
  {
   "cell_type": "code",
   "execution_count": 20,
   "id": "be7ffcaf-a199-46e3-a24c-b38c9316a0d9",
   "metadata": {},
   "outputs": [
    {
     "name": "stdout",
     "output_type": "stream",
     "text": [
      "Epoch: 0 | Loss: 0.69772, Accuracy: 45.62% | Test loss: 0.69626, Test acc: 48.50%\n",
      "Epoch: 100 | Loss: 0.69772, Accuracy: 45.62% | Test loss: 0.69626, Test acc: 48.50%\n",
      "Epoch: 200 | Loss: 0.69772, Accuracy: 45.62% | Test loss: 0.69626, Test acc: 48.50%\n",
      "Epoch: 300 | Loss: 0.69772, Accuracy: 45.62% | Test loss: 0.69626, Test acc: 48.50%\n",
      "Epoch: 400 | Loss: 0.69772, Accuracy: 45.62% | Test loss: 0.69626, Test acc: 48.50%\n",
      "Epoch: 500 | Loss: 0.69772, Accuracy: 45.62% | Test loss: 0.69626, Test acc: 48.50%\n",
      "Epoch: 600 | Loss: 0.69772, Accuracy: 45.62% | Test loss: 0.69626, Test acc: 48.50%\n",
      "Epoch: 700 | Loss: 0.69772, Accuracy: 45.62% | Test loss: 0.69626, Test acc: 48.50%\n",
      "Epoch: 800 | Loss: 0.69772, Accuracy: 45.62% | Test loss: 0.69626, Test acc: 48.50%\n",
      "Epoch: 900 | Loss: 0.69772, Accuracy: 45.62% | Test loss: 0.69626, Test acc: 48.50%\n"
     ]
    }
   ],
   "source": [
    "# Fit the linear model\n",
    "epochs = 1000\n",
    "\n",
    "# Put data to target device\n",
    "X_train, y_train = X_train.to(device), y_train.to(device)\n",
    "X_test, y_test = X_test.to(device), y_test.to(device)\n",
    "\n",
    "for epoch in range(epochs):\n",
    "    # Forward pass\n",
    "    y_logits = model_1(X_train).squeeze()\n",
    "    y_pred = torch.round(torch.sigmoid(y_logits)) # logits -> prediction probabilities -> prediction labels\n",
    "\n",
    "    # Calculate loss/accuracy\n",
    "    loss = loss_fn(y_logits, y_train)\n",
    "    acc = accuracy_fn(y_true=y_train, \n",
    "                      y_pred=y_pred)\n",
    "\n",
    "    # Optimizer zero grad\n",
    "    optimizer.zero_grad()\n",
    "\n",
    "    # Loss backwards\n",
    "    loss.backward()\n",
    "\n",
    "    # Optimizer step\n",
    "    optimizer.step()\n",
    "\n",
    "    ### Testing\n",
    "    model_1.eval()\n",
    "    with torch.inference_mode():\n",
    "        # 1. Forward pass\n",
    "        test_logits = model_1(X_test).squeeze() \n",
    "        test_pred = torch.round(torch.sigmoid(test_logits))\n",
    "        # 2. Caculate loss/accuracy\n",
    "        test_loss = loss_fn(test_logits,\n",
    "                            y_test)\n",
    "        test_acc = accuracy_fn(y_true=y_test,\n",
    "                               y_pred=test_pred)\n",
    "\n",
    "    # Print out what's happening every 10 epochs\n",
    "    if epoch % 100 == 0:\n",
    "        print(f\"Epoch: {epoch} | Loss: {loss:.5f}, Accuracy: {acc:.2f}% | Test loss: {test_loss:.5f}, Test acc: {test_acc:.2f}%\")"
   ]
  },
  {
   "cell_type": "code",
   "execution_count": 21,
   "id": "e4cb5043-65f6-492d-a18d-32da087d04f9",
   "metadata": {},
   "outputs": [
    {
     "data": {
      "text/plain": [
       "(tensor([0., 0., 0., 0., 0., 0., 0., 0., 0., 0.], device='mps:0'),\n",
       " tensor([1., 1., 1., 1., 0., 1., 1., 1., 1., 0.]))"
      ]
     },
     "execution_count": 21,
     "metadata": {},
     "output_type": "execute_result"
    }
   ],
   "source": [
    "model_1.eval()\n",
    "with torch.inference_mode():\n",
    "    y_preds = torch.round(torch.sigmoid(model_1(X_test))).squeeze()\n",
    "y_preds[:10], y[:10]"
   ]
  },
  {
   "cell_type": "code",
   "execution_count": null,
   "id": "7453fddf-5788-490f-a864-054085e3797c",
   "metadata": {},
   "outputs": [],
   "source": []
  },
  {
   "cell_type": "markdown",
   "id": "082e352e-780a-4421-a6d8-ce941cc47453",
   "metadata": {},
   "source": [
    "# Numerical Method\n",
    "reference: https://github.com/cantaro86/Financial-Models-Numerical-Methods"
   ]
  },
  {
   "cell_type": "code",
   "execution_count": 52,
   "id": "d7252667-236c-46dd-922b-c9e4180e059c",
   "metadata": {},
   "outputs": [],
   "source": [
    "import scipy as sp\n",
    "from scipy.optimize import minimize"
   ]
  },
  {
   "cell_type": "markdown",
   "id": "6777d2a6-b9fc-4213-9e40-fd08f8970069",
   "metadata": {},
   "source": [
    "## Normal Distribution\n",
    "$$\n",
    "N(0,1)\n",
    "$$\n",
    "Probability Density Function:\n",
    "$$\n",
    "f(x)=\\frac{1}{\\sqrt{2 \\pi \\sigma^2}} e^{-\\frac{(x-\\mu)^2}{2 \\pi^2}} .\n",
    "$$"
   ]
  },
  {
   "cell_type": "code",
   "execution_count": 26,
   "id": "3378b131-8f4c-4414-99c8-09b99f6d3527",
   "metadata": {},
   "outputs": [
    {
     "data": {
      "text/plain": [
       "0.3358724165010198"
      ]
     },
     "execution_count": 26,
     "metadata": {},
     "output_type": "execute_result"
    }
   ],
   "source": [
    "# standard normal distribution\n",
    "np.random.standard_normal()"
   ]
  },
  {
   "cell_type": "markdown",
   "id": "c9023902-269c-4244-a67b-ff9df206302f",
   "metadata": {},
   "source": [
    "## Brownian motion (Wiener process)\n",
    "+ $X_0=0$ almost surely .\n",
    "+ The increments are stationary and independent.\n",
    "+ It has continuous paths, but nowhere differentiable.\n",
    "+ $X_t-X_s \\sim \\mathcal{N}(0, t-s)$ for $t \\geq s \\geq 0$."
   ]
  },
  {
   "cell_type": "code",
   "execution_count": null,
   "id": "5bfda293-8598-420a-b0d5-e0d526d3c140",
   "metadata": {},
   "outputs": [],
   "source": []
  },
  {
   "cell_type": "code",
   "execution_count": 55,
   "id": "24b8ba34-9781-4b48-a3bc-2c52ea7f636b",
   "metadata": {},
   "outputs": [],
   "source": [
    "np.random.seed(seed=5000)\n",
    "mu = 0.1\n",
    "sigma = 0.2\n",
    "T = 100\n",
    "steps = 1000\n",
    "paths = 4000\n",
    "\n",
    "T_vec, dt = np.linspace(0, T, steps, retstep=True)\n",
    "X0 = np.zeros((paths, 1))\n",
    "\n",
    "increments = np.random.normal(mu*dt, sigma*np.sqrt(dt), (paths, steps-1))\n",
    "X = np.concatenate((X0, increments), axis=1).cumsum(1)"
   ]
  },
  {
   "cell_type": "markdown",
   "id": "75485747-6fa8-4bd3-b8d1-c2cdd8f036a3",
   "metadata": {},
   "source": [
    "Each increments is:\n",
    "\n",
    "$$\n",
    "X_{t_{\\mathrm{i}}+\\Delta t}-X_{t_i}=\\Delta X_i \\sim \\mathcal{N}\\left(\\mu \\Delta t, \\sigma^2 \\Delta t\\right)\n",
    "$$\n",
    "\n",
    "\n",
    "The process at time T is given by $X_T=\\sum_i \\Delta X_i$ and follows the distribution:\n",
    "\n",
    "$$\n",
    "X_T \\sim \\mathcal{N}\\left(\\mu T, \\sigma^2 T\\right)\n",
    "$$"
   ]
  },
  {
   "cell_type": "code",
   "execution_count": 56,
   "id": "ba215de9-52d5-4c82-8ac7-9689836d8696",
   "metadata": {},
   "outputs": [
    {
     "data": {
      "image/png": "[encoded data removed]",
      "text/plain": [
       "<Figure size 432x288 with 1 Axes>"
      ]
     },
     "metadata": {
      "needs_background": "light"
     },
     "output_type": "display_data"
    }
   ],
   "source": [
    "plt.plot(T_vec, X.T)\n",
    "plt.title(\"Brownian paths\")\n",
    "plt.xlabel(\"T\")\n",
    "plt.show()"
   ]
  },
  {
   "cell_type": "markdown",
   "id": "ea299148-46d1-430e-83be-d805c7b56aef",
   "metadata": {},
   "source": [
    "$$\n",
    "\\text { We expect the mean} E\\left[X_T\\right]=\\mu T \\text { and the variance  } ~ V\\left[X_T\\right]=\\sigma^2 T.\n",
    "$$"
   ]
  },
  {
   "cell_type": "code",
   "execution_count": 57,
   "id": "83f42ec5-1d23-445a-82c5-32ac422fbddd",
   "metadata": {},
   "outputs": [
    {
     "name": "stdout",
     "output_type": "stream",
     "text": [
      "Expectation of X at time T: 10.0389\n",
      "Standard Deviation of X at time T: 2.0196\n"
     ]
    }
   ],
   "source": [
    "X_end = X[:, -1]\n",
    "print(\"Expectation of X at time T: {:.4f}\".format(X_end.mean()))\n",
    "print(\"Standard Deviation of X at time T: {:.4f}\".format(X_end.std(ddof=1)))"
   ]
  },
  {
   "cell_type": "code",
   "execution_count": 65,
   "id": "7fe1204e-6e52-4290-b87b-0dbedb01d319",
   "metadata": {},
   "outputs": [
    {
     "data": {
      "image/png": "[encoded data removed]",
      "text/plain": [
       "<Figure size 432x288 with 1 Axes>"
      ]
     },
     "metadata": {
      "needs_background": "light"
     },
     "output_type": "display_data"
    }
   ],
   "source": [
    "x = np.linspace(X_end.min(), X_end.max(), 100)\n",
    "param = sp.stats.norm.fit(X_end)\n",
    "pdf_fitted = sp.stats.norm.pdf(x, param[0], param[1])\n",
    "\n",
    "plt.plot(x, pdf_fitted, color=\"r\", label=\"Normal\")\n",
    "plt.hist(X_end, density=True, bins=50, facecolor=\"LightBlue\", label=\"frequency of X_end\")\n",
    "plt.legend()\n",
    "plt.title(\"Histogram vs Normal distribution\")\n",
    "plt.xlabel(\"X_end\")\n",
    "plt.show()"
   ]
  },
  {
   "cell_type": "markdown",
   "id": "88be2e71-bf70-427a-a38e-fa307c0e11ba",
   "metadata": {},
   "source": [
    "## Linear System solve Differential Equations： Finite Difference Approximations\n",
    "https://github.com/mandli/intro-numerical-methods/blob/master/16_ODE_BVP.ipynb"
   ]
  },
  {
   "cell_type": "markdown",
   "id": "1d6e0635-47e5-453c-a9b3-87d8ae2ce602",
   "metadata": {},
   "source": [
    "Consider an example problem:\n",
    "\n",
    "$$\n",
    "u_{x x}=f(x)\n",
    "$$\n",
    "with the initial conditions $u(a)=u_a$ and $u(b)=u_b$.\n",
    "\n",
    "\n",
    "We want to use finite difference method to get the value of function $u$.\n",
    "\n",
    "The second order centered difference approximation for the second derivative for a function $u(x)$ is\n",
    "\n",
    "$$\n",
    "u_{x x} \\approx \\frac{u\\left(x_{i-1}\\right)-2 u\\left(x_i\\right)+u\\left(x_{i+1}\\right)}{\\Delta x^2}\n",
    "$$\n",
    "\n",
    "\n",
    "If we descretize the domain into $N$ points (not including the boundaries):\n",
    "\n",
    "$$\n",
    "x_i=a+\\frac{b-a}{N+1} \\cdot i \\text { where } i=1, \\ldots, N\n",
    "$$\n",
    "\n",
    "we can then write the finite difference approximation as a system of linear equations. If we take $N=5$, then\n",
    "\n",
    "$$\n",
    "\\begin{aligned}\n",
    "& \\left(U_{x x}\\right)_1 \\approx \\frac{U_a-2 U_1+U_2}{\\Delta x^2} \\\\\n",
    "& \\left(U_{x x}\\right)_2 \\approx \\frac{U_1-2 U_2+U_3}{\\Delta x^2} \\\\\n",
    "& \\left(U_{x x}\\right)_3 \\approx \\frac{U_2-2 U_3+U_4}{\\Delta x^2} \\\\\n",
    "& \\left(U_{x x}\\right)_4 \\approx \\frac{U_3-2 U_4+U_5}{\\Delta x^2} \\\\\n",
    "& \\left(U_{x x}\\right)_5 \\approx \\frac{U_4-2 U_5+U_b}{\\Delta x^2}\n",
    "\\end{aligned}\n",
    "$$\n",
    "\n",
    "where we have used $U_a=u(a)$ and $U_b=u(b)$ as the boundary conditions."
   ]
  },
  {
   "cell_type": "markdown",
   "id": "6e61d181-8668-46a7-a7ff-7123d8457c71",
   "metadata": {},
   "source": [
    "Using these approximations to the derivatives we can then write the ODE as\n",
    "\n",
    "$$\n",
    "\\frac{1}{\\Delta x^2}\\left[\\begin{array}{ccccc}\n",
    "-2 & 1 & & & \\\\\n",
    "1 & -2 & 1 & & \\\\\n",
    "& 1 & -2 & 1 & \\\\\n",
    "& & 1 & -2 & 1 \\\\\n",
    "& & & 1 & -2\n",
    "\\end{array}\\right]\\left[\\begin{array}{l}\n",
    "U_1 \\\\\n",
    "U_2 \\\\\n",
    "U_3 \\\\\n",
    "U_4 \\\\\n",
    "U_5\n",
    "\\end{array}\\right]=\\left[\\begin{array}{l}\n",
    "f\\left(x_1\\right) \\\\\n",
    "f\\left(x_2\\right) \\\\\n",
    "f\\left(x_3\\right) \\\\\n",
    "f\\left(x_4\\right) \\\\\n",
    "f\\left(x_5\\right)\n",
    "\\end{array}\\right]\n",
    "$$\n",
    "\n",
    "__Boundary Conditions__\n",
    "We can add Dirichlet boundary conditions by sending the values we know to the $b$ vector:\n",
    "\n",
    "$$\n",
    "\\begin{array}{ll}\n",
    "\\frac{U_a-2 U_1+U_2}{\\Delta x^2}=f\\left(x_1\\right) \\Rightarrow & \\frac{-2 U_1+U_2}{\\Delta x^2}=f\\left(x_1\\right)-\\frac{U_a}{\\Delta x^2} \\\\\n",
    "\\frac{U_4-2 U_5+U_b}{\\Delta x^2}=f\\left(x_1\\right) \\Rightarrow & \\frac{U_4-2 U_5}{\\Delta x^2}=f\\left(x_5\\right)-\\frac{U_b}{\\Delta x^2}\n",
    "\\end{array}\n",
    "$$\n",
    "\n",
    "so that final system looks like\n",
    "\n",
    "$$\n",
    "\\frac{1}{\\Delta x^2}\\left[\\begin{array}{ccccc}\n",
    "-2 & 1 & & & \\\\\n",
    "1 & -2 & 1 & & \\\\\n",
    "& 1 & -2 & 1 & \\\\\n",
    "& & 1 & -2 & 1 \\\\\n",
    "& & & 1 & -2\n",
    "\\end{array}\\right]\\left[\\begin{array}{c}\n",
    "U_1 \\\\\n",
    "U_2 \\\\\n",
    "U_3 \\\\\n",
    "U_4 \\\\\n",
    "U_5\n",
    "\\end{array}\\right]=\\left[\\begin{array}{c}\n",
    "f\\left(x_1\\right)-\\frac{U_a}{\\Delta x^2} \\\\\n",
    "f\\left(x_2\\right) \\\\\n",
    "f\\left(x_3\\right) \\\\\n",
    "f\\left(x_4\\right) \\\\\n",
    "f\\left(x_5\\right)-\\frac{U_b}{\\Delta x^2}\n",
    "\\end{array}\\right]\n",
    "$$\n"
   ]
  },
  {
   "cell_type": "markdown",
   "id": "717634d8-9647-4d39-8cc4-cb2659ed3168",
   "metadata": {},
   "source": [
    "__Example__\n",
    "\n",
    "If we want to solve the boundary value problem:\n",
    "\n",
    "$$\n",
    "u_{x x}=e^x, \\quad x \\in[0,1] \\quad \\text { with } \\quad u(0)=0.0, \\text { and } u(1)=3\n",
    "$$\n",
    "\n",
    "via the construction of a linear system of equations.\n",
    "\n",
    "$$\n",
    "\\begin{aligned}\n",
    "u_{x x} & =e^x \\\\\n",
    "u_x & =A+e^x \\\\\n",
    "u & =A x+B+e^x \\\\\n",
    "u(0) & =B+1=0 \\Rightarrow B=-1 \\\\\n",
    "u(1) & =A-1+e^1=3 \\Rightarrow A=4-e \\\\\n",
    "u(x) & =(4-e) x-1+e^x\n",
    "\\end{aligned}\n",
    "$$\n"
   ]
  },
  {
   "cell_type": "code",
   "execution_count": 67,
   "id": "48e4a56b-7f88-489e-9863-f065fda64f07",
   "metadata": {},
   "outputs": [
    {
     "data": {
      "image/png": "[encoded data removed]",
      "text/plain": [
       "<Figure size 432x288 with 1 Axes>"
      ]
     },
     "metadata": {
      "needs_background": "light"
     },
     "output_type": "display_data"
    }
   ],
   "source": [
    "# Problem setup\n",
    "a = 0.0\n",
    "b = 1.0\n",
    "u_a = 0.0\n",
    "u_b = 3.0\n",
    "f = lambda x: np.exp(x)\n",
    "u_true = lambda x: (4.0 - np.exp(1.0)) * x - 1.0 + np.exp(x)\n",
    "\n",
    "# Descretization\n",
    "N = 10\n",
    "x_bc = np.linspace(a, b, N + 2)\n",
    "x = x_bc[1:-1]\n",
    "delta_x = (b - a) / (N + 1)\n",
    "\n",
    "# Construct matrix A\n",
    "A = np.zeros((N, N))\n",
    "diagonal = np.ones(N) / delta_x**2\n",
    "A += np.diag(diagonal * -2.0, 0)\n",
    "A += np.diag(diagonal[:-1], 1)\n",
    "A += np.diag(diagonal[:-1], -1)\n",
    "\n",
    "# Construct RHS\n",
    "b = f(x)\n",
    "b[0] -= u_a / delta_x**2\n",
    "b[-1] -= u_b / delta_x**2\n",
    "\n",
    "# Solve system\n",
    "U = np.empty(N + 2)\n",
    "U[0] = u_a\n",
    "U[-1] = u_b\n",
    "U[1:-1] = np.linalg.solve(A, b)\n",
    "\n",
    "# Plot result\n",
    "fig = plt.figure()\n",
    "axes = fig.add_subplot(1, 1, 1)\n",
    "axes.plot(x_bc, U, 'o', label=\"Computed\")\n",
    "axes.plot(x_bc, u_true(x_bc), 'k', label=\"True\")\n",
    "axes.set_title(\"Solution to $u_{xx} = e^x$\")\n",
    "axes.set_xlabel(\"x\")\n",
    "axes.set_ylabel(\"u(x)\")\n",
    "plt.show()"
   ]
  },
  {
   "cell_type": "code",
   "execution_count": null,
   "id": "83252bcc-16b1-448e-8947-da07284023f1",
   "metadata": {},
   "outputs": [],
   "source": []
  }
 ],
 "metadata": {
  "kernelspec": {
   "display_name": "Python 3 (ipykernel)",
   "language": "python",
   "name": "python3"
  },
  "language_info": {
   "codemirror_mode": {
    "name": "ipython",
    "version": 3
   },
   "file_extension": ".py",
   "mimetype": "text/x-python",
   "name": "python",
   "nbconvert_exporter": "python",
   "pygments_lexer": "ipython3",
   "version": "3.9.12"
  }
 },
 "nbformat": 4,
 "nbformat_minor": 5
}
